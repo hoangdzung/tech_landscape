{
 "cells": [
  {
   "cell_type": "code",
   "execution_count": 1,
   "metadata": {},
   "outputs": [],
   "source": [
    "import requests\n",
    "import string\n",
    "from bs4 import BeautifulSoup\n",
    "from tqdm import tqdm\n",
    "import json"
   ]
  },
  {
   "cell_type": "code",
   "execution_count": 14,
   "metadata": {},
   "outputs": [],
   "source": [
    "tech_terms=['3D mesh',\n",
    " '3D modeled object',\n",
    " 'CBBCT - CAD',\n",
    " 'CBBCT - based computer aided diagnosis',\n",
    " 'CLBs',\n",
    " 'CPU',\n",
    " 'Configuration data',\n",
    " 'DM - RS',\n",
    " 'E - commerce data',\n",
    " 'ENM',\n",
    " 'FIM avionics device',\n",
    " 'I / O activity',\n",
    " 'I / O activity data',\n",
    " 'I / O request',\n",
    " 'IC',\n",
    " 'IMCU',\n",
    " 'IPC',\n",
    " 'Internet of Things',\n",
    " 'JMX collector',\n",
    " 'LU',\n",
    " 'MAC PDU',\n",
    " 'MAC header',\n",
    " 'MAC payload',\n",
    " 'MBean tree',\n",
    " 'Markov Random Field',\n",
    " 'Markov Random Field optimization',\n",
    " 'PBA database',\n",
    " 'PLD',\n",
    " 'RAM',\n",
    " 'RAM mode',\n",
    " 'Systems',\n",
    " \"TAP ' s TMS terminal\",\n",
    " 'TCK terminal',\n",
    " 'The DSGDL offloads',\n",
    " 'UAV',\n",
    " 'UE',\n",
    " 'accelerometer',\n",
    " 'aircraft',\n",
    " 'analog - to - digital ( A / D ) converter',\n",
    " 'analog signal',\n",
    " 'antenna port',\n",
    " 'application',\n",
    " 'ata processing system',\n",
    " 'attribute data',\n",
    " 'audible frequency band',\n",
    " 'augmented reality images',\n",
    " 'authenticating data',\n",
    " 'automation system',\n",
    " 'bidirectional data signal',\n",
    " 'biometric',\n",
    " 'biometric data',\n",
    " 'bit rot',\n",
    " 'breast cancer detection and diagnosis',\n",
    " 'client',\n",
    " 'client electronic device',\n",
    " 'client requests',\n",
    " 'client system',\n",
    " 'clock signal',\n",
    " 'coded fragments',\n",
    " 'collecting data',\n",
    " 'collection of data',\n",
    " 'combining data',\n",
    " 'communication',\n",
    " 'communication component',\n",
    " 'communication device',\n",
    " 'communication interface',\n",
    " 'communication unit',\n",
    " 'communications channel',\n",
    " 'communications link',\n",
    " 'communications method',\n",
    " 'compressed image data',\n",
    " 'compressed image data input',\n",
    " 'computer - implemented method',\n",
    " 'computer - readable storage device',\n",
    " 'computer memory',\n",
    " 'computer network',\n",
    " 'computer program',\n",
    " 'computer system',\n",
    " 'computerized method',\n",
    " 'computerized optimization algorithm',\n",
    " 'computing device',\n",
    " 'conference call',\n",
    " 'control information',\n",
    " 'control unit',\n",
    " 'controller',\n",
    " 'core circuit',\n",
    " 'coupler design',\n",
    " 'data',\n",
    " 'data attributes',\n",
    " 'data communication system',\n",
    " 'data file',\n",
    " 'data logging subsystem',\n",
    " 'data packet',\n",
    " 'data packets',\n",
    " 'data point',\n",
    " 'data processor',\n",
    " 'data protection engine',\n",
    " 'data rate',\n",
    " 'data reader',\n",
    " 'data reception terminal',\n",
    " 'data recovery',\n",
    " 'data storage device',\n",
    " 'data storage service',\n",
    " 'data store',\n",
    " 'data stream',\n",
    " 'data streams',\n",
    " 'data structure',\n",
    " 'data structures',\n",
    " 'data transformations',\n",
    " 'data transmission',\n",
    " 'data transmission terminal',\n",
    " 'data transmission unit',\n",
    " 'data tuples',\n",
    " 'data types',\n",
    " 'data units',\n",
    " 'data value',\n",
    " 'data values',\n",
    " 'data visualization',\n",
    " 'database',\n",
    " 'database manager',\n",
    " 'database records',\n",
    " 'database table',\n",
    " 'database tables',\n",
    " 'datapath pipeline',\n",
    " 'dataplane connectivity',\n",
    " 'decision maker',\n",
    " 'decodable indicia',\n",
    " 'decodable indicia reading terminal',\n",
    " 'decoded message data',\n",
    " 'decompressor',\n",
    " 'device',\n",
    " 'device - to - device communication',\n",
    " 'devices',\n",
    " 'digital image',\n",
    " 'digital signal',\n",
    " 'direct identifiers',\n",
    " 'directory - based computer memory management system',\n",
    " 'display device',\n",
    " 'display driver',\n",
    " 'display panel',\n",
    " 'distribution data',\n",
    " 'distribution unit',\n",
    " 'downlink control signal',\n",
    " 'downlink data signal',\n",
    " 'eBook reader device',\n",
    " 'electronic component',\n",
    " 'electronic device',\n",
    " 'electronic paper display',\n",
    " 'electronic paper display panel',\n",
    " 'emails',\n",
    " 'encoded content identifier',\n",
    " 'encrypted data transmission',\n",
    " 'environmental sensor data',\n",
    " 'event notification message',\n",
    " 'external controller',\n",
    " 'eyeglass - prescription assisting apparatus',\n",
    " 'eyeglass lens',\n",
    " 'feature data',\n",
    " 'feature extraction',\n",
    " 'feature extraction unit',\n",
    " 'feature vector',\n",
    " 'feature vector transformation unit',\n",
    " 'files',\n",
    " 'filters',\n",
    " 'fingerprint data',\n",
    " 'flash mode',\n",
    " 'flash package',\n",
    " 'force sensor',\n",
    " 'gateway',\n",
    " 'gaze detection module',\n",
    " 'generator computer module',\n",
    " 'global index',\n",
    " 'handling interrupts',\n",
    " 'high media technical quality',\n",
    " 'higher layer signaling',\n",
    " 'identifying and protecting privacy vulnerabilities',\n",
    " 'image data',\n",
    " 'image filters',\n",
    " 'image page',\n",
    " 'image processing',\n",
    " 'image processor',\n",
    " 'image sensor',\n",
    " 'image templates',\n",
    " 'imaging lens',\n",
    " 'imaging unit',\n",
    " 'in - memory compression units',\n",
    " 'index data structure',\n",
    " 'indexing data values',\n",
    " 'input data',\n",
    " 'input image',\n",
    " 'input unit',\n",
    " 'intermediate model',\n",
    " 'interrupt presentation controller',\n",
    " 'laser light',\n",
    " 'latency mismatches',\n",
    " 'latency paths',\n",
    " 'local virtual machine',\n",
    " 'local virtual machines',\n",
    " 'location data',\n",
    " 'logical unit',\n",
    " 'machine',\n",
    " 'management data',\n",
    " 'measurement data',\n",
    " 'media product',\n",
    " 'media streams',\n",
    " 'media systems',\n",
    " 'medical image',\n",
    " 'medical treatments',\n",
    " 'memory',\n",
    " 'memory array',\n",
    " 'memory controller',\n",
    " 'memory element',\n",
    " 'memory elements',\n",
    " 'message queuing system',\n",
    " 'message sending component',\n",
    " 'methods',\n",
    " 'microprocessor',\n",
    " 'mobile application',\n",
    " 'mobile emitter',\n",
    " 'mobile endpoint device',\n",
    " 'model',\n",
    " 'monocular camera',\n",
    " 'multi - device platform',\n",
    " 'multi - source agreement',\n",
    " 'multimode interference ( MMI ) coupler',\n",
    " 'multiple clients',\n",
    " 'multiple pixel image sensor',\n",
    " 'multiple requests',\n",
    " 'multiple streams',\n",
    " 'named data networks',\n",
    " 'named data objects',\n",
    " 'named graphs',\n",
    " 'network',\n",
    " 'noise analysis',\n",
    " 'noise collection unit',\n",
    " 'non - volatile semiconductor memory device',\n",
    " 'ocular surgical',\n",
    " 'ocular surgical procedure',\n",
    " 'off - host processing system',\n",
    " 'optical network units',\n",
    " 'optical transferring device',\n",
    " 'out - of - date cached dataset',\n",
    " 'overwrite data',\n",
    " 'packet rate',\n",
    " 'passcode',\n",
    " 'pathologic diagnosis',\n",
    " 'photoelectric converters',\n",
    " 'photos',\n",
    " 'photosensor',\n",
    " 'photosensors',\n",
    " 'pixel image data',\n",
    " 'pointing input device',\n",
    " 'portable devices',\n",
    " 'power converter',\n",
    " 'power switching device',\n",
    " 'primary consistent database',\n",
    " 'primitive image data',\n",
    " 'privacy protection',\n",
    " 'privacy vulnerabilities',\n",
    " 'processing commands',\n",
    " 'processor',\n",
    " 'processors',\n",
    " 'production processes',\n",
    " 'program instructions',\n",
    " 'protocol',\n",
    " 'quasi - identifiers',\n",
    " 'query',\n",
    " 'query request',\n",
    " 'queuing system',\n",
    " 'ransomware',\n",
    " 'record',\n",
    " 'record response',\n",
    " 'records',\n",
    " 'recursive cell - based hierarchy',\n",
    " 'remote media data file',\n",
    " 'replicated partitions',\n",
    " 'request',\n",
    " 'requests',\n",
    " 'response',\n",
    " 'retaining data',\n",
    " 'scanner',\n",
    " 'search service',\n",
    " 'semiconductor device',\n",
    " 'sensing electrode',\n",
    " 'sensing electrodes',\n",
    " 'sensing subsystem',\n",
    " 'sensitive enterprise data',\n",
    " 'sensor assembly',\n",
    " 'sensor data',\n",
    " 'sensors',\n",
    " 'serial communication',\n",
    " 'server',\n",
    " 'server device',\n",
    " 'shopping platform',\n",
    " 'short range wireless access point',\n",
    " 'signal',\n",
    " 'signal frequency analysis',\n",
    " 'site - aware controller',\n",
    " 'software - level queue',\n",
    " 'software application',\n",
    " 'software applications',\n",
    " 'software defined network',\n",
    " 'software instructions',\n",
    " 'software module',\n",
    " 'software modules',\n",
    " 'software validation and verification',\n",
    " 'source identification',\n",
    " 'sterilization system',\n",
    " 'storage controller',\n",
    " 'storage medium',\n",
    " 'storage nodes',\n",
    " 'stream',\n",
    " 'streaming application',\n",
    " 'subscriber stations',\n",
    " 'surgical event',\n",
    " 'surgical events',\n",
    " 'surgical microscope',\n",
    " 'surgical procedure',\n",
    " 'system',\n",
    " 'systems',\n",
    " 'tag information',\n",
    " 'tagged image',\n",
    " 'target identification',\n",
    " 'television data',\n",
    " 'test case generation module',\n",
    " 'test case generation platform processor',\n",
    " 'test generation method',\n",
    " 'texturing image',\n",
    " 'traffic',\n",
    " 'transactions',\n",
    " 'translation computer module',\n",
    " 'transmission method and device',\n",
    " 'transmission path',\n",
    " 'ultrasound',\n",
    " 'ultrasound signals',\n",
    " 'ultrasound transmitter',\n",
    " 'user access',\n",
    " 'user comments',\n",
    " 'user equipment',\n",
    " 'user processors',\n",
    " 'vector classification unit',\n",
    " 'vector transform',\n",
    " 'video data',\n",
    " 'virtual reality',\n",
    " 'wavefront sensor',\n",
    " 'web pages',\n",
    " 'website',\n",
    " 'wire connectivity testing',\n",
    " 'wire segment',\n",
    " 'wiring data',\n",
    " 'write data',\n",
    " 'writing data']"
   ]
  },
  {
   "cell_type": "code",
   "execution_count": 15,
   "metadata": {},
   "outputs": [],
   "source": [
    "eco_terms=['Absolute advantage',\n",
    " 'Adaptive expectations',\n",
    " 'Adverse selection',\n",
    " 'Advertising',\n",
    " 'Agency costs',\n",
    " 'Agricultural policy',\n",
    " 'Agriculture',\n",
    " 'Aid',\n",
    " 'Altruism',\n",
    " 'Amortisation',\n",
    " 'Animal spirits',\n",
    " 'Antitrust',\n",
    " 'Appreciation',\n",
    " 'Arbitrage',\n",
    " 'Arbitrage pricing theory',\n",
    " 'Asian crisis',\n",
    " 'Assets',\n",
    " 'Asymmetric information',\n",
    " 'Asymmetric shock',\n",
    " 'Auctions',\n",
    " 'Austrian economics',\n",
    " 'Autarky',\n",
    " 'Average',\n",
    " 'Backwardation',\n",
    " 'Balance of payments',\n",
    " 'Balanced budget',\n",
    " 'Bank',\n",
    " 'Bankruptcy',\n",
    " 'Barriers to entry (or exit)',\n",
    " 'Barter',\n",
    " 'Basel 1 and 2',\n",
    " 'Basis point',\n",
    " 'Bear',\n",
    " 'Behavioural economics',\n",
    " 'Beta',\n",
    " 'Big Mac index',\n",
    " 'Black economy',\n",
    " 'Black-Scholes',\n",
    " 'Bonds',\n",
    " 'Boom and bust',\n",
    " 'Bounded rationality',\n",
    " 'Brand',\n",
    " 'Bretton Woods',\n",
    " 'Bubble',\n",
    " 'Budget',\n",
    " 'Bull',\n",
    " 'Business confidence',\n",
    " 'Business cycle',\n",
    " \"Buyer's market\",\n",
    " 'Cannibalise',\n",
    " 'Capacity',\n",
    " 'Capital',\n",
    " 'Capital adequacy ratio',\n",
    " 'Capital asset pricing model',\n",
    " 'Capital controls',\n",
    " 'Capital flight',\n",
    " 'Capital gains',\n",
    " 'Capital intensive',\n",
    " 'Capital markets',\n",
    " 'Capital structure',\n",
    " 'Capitalism',\n",
    " 'CAPM',\n",
    " 'Cartel',\n",
    " 'Catch-up effect',\n",
    " 'Central bank',\n",
    " 'Ceteris paribus',\n",
    " 'Charity',\n",
    " 'Chicago School',\n",
    " 'Classical dichotomy',\n",
    " 'Classical economics',\n",
    " 'Closed economy',\n",
    " 'Coase theorem',\n",
    " 'Collateral',\n",
    " 'Collusion',\n",
    " 'Command economy',\n",
    " 'Commoditisation',\n",
    " 'Commodity',\n",
    " 'Common goods',\n",
    " 'Communism',\n",
    " 'Comparative advantage',\n",
    " 'Competition',\n",
    " 'Competitive advantage',\n",
    " 'Competitiveness',\n",
    " 'Complementary goods',\n",
    " 'Compound interest',\n",
    " 'Concentration',\n",
    " 'Conditionality',\n",
    " 'Consumer confidence',\n",
    " 'Consumer prices',\n",
    " 'Consumer surplus',\n",
    " 'Consumption',\n",
    " 'Contagion',\n",
    " 'Contestable market',\n",
    " 'Convergence',\n",
    " 'Corruption',\n",
    " 'Cost of capital',\n",
    " 'Cost-benefit analysis',\n",
    " 'Creative destruction',\n",
    " 'Credit',\n",
    " 'Credit creation',\n",
    " 'Credit crunch',\n",
    " 'Creditor',\n",
    " 'Crony capitalism',\n",
    " 'Crowding out',\n",
    " 'Currency board',\n",
    " 'Currency peg',\n",
    " 'Current account',\n",
    " 'De Soto, Hernando',\n",
    " 'Deadweight cost/loss',\n",
    " 'Debt',\n",
    " 'Debt forgiveness',\n",
    " 'Debt-equity ratio',\n",
    " 'Default',\n",
    " 'Deficit',\n",
    " 'Deflation',\n",
    " 'Demand',\n",
    " 'Demand curve',\n",
    " 'Demographics',\n",
    " 'Deposit insurance',\n",
    " 'Depreciation',\n",
    " 'Depression',\n",
    " 'Deregulation',\n",
    " 'Derivatives',\n",
    " 'Devaluation',\n",
    " 'Developing countries',\n",
    " 'Development economics',\n",
    " 'Diminishing returns',\n",
    " 'Direct taxation',\n",
    " 'Discount rate',\n",
    " 'Discounted cashflow',\n",
    " 'Diseconomies of scale',\n",
    " 'Disequilibrium',\n",
    " 'Disinflation',\n",
    " 'Disintermediation',\n",
    " 'Diversification',\n",
    " 'Dividend',\n",
    " 'Division of labour',\n",
    " 'Dollarisation',\n",
    " 'Dominant firm',\n",
    " 'Dumping',\n",
    " 'ECB',\n",
    " 'Econometrics',\n",
    " 'Economic and monetary union',\n",
    " 'Economic indicator',\n",
    " 'Economic man',\n",
    " 'Economic rent',\n",
    " 'Economic sanctions',\n",
    " 'Economics',\n",
    " 'Economies of scale',\n",
    " 'Effective exchange rate',\n",
    " 'Efficiency',\n",
    " 'Efficiency wages',\n",
    " 'Efficient market hypothesis',\n",
    " 'Elasticity',\n",
    " 'Emerging markets',\n",
    " 'Endogenous',\n",
    " \"Engel's law\",\n",
    " 'Enron',\n",
    " 'Enterprise',\n",
    " 'Entrepreneur',\n",
    " 'Environmental economics',\n",
    " 'Equilibrium',\n",
    " 'Equities',\n",
    " 'Equity',\n",
    " 'Equity risk premium',\n",
    " 'Euro',\n",
    " 'Euro Zone',\n",
    " 'Eurodollar',\n",
    " 'European Central Bank',\n",
    " 'European Union',\n",
    " 'Evolutionary economics',\n",
    " 'Excess returns',\n",
    " 'Exchange controls',\n",
    " 'Exchange rate',\n",
    " 'Exogenous',\n",
    " 'Expectations',\n",
    " 'Expected returns',\n",
    " 'Expenditure tax',\n",
    " 'Export credit',\n",
    " 'Exports',\n",
    " 'Externality',\n",
    " 'Factor cost',\n",
    " 'Factors of production',\n",
    " 'Factory prices',\n",
    " 'Fair trade',\n",
    " 'FDI',\n",
    " 'Federal Reserve System',\n",
    " 'Financial centre',\n",
    " 'Financial instrument',\n",
    " 'Financial intermediary',\n",
    " 'Financial markets',\n",
    " 'Financial system',\n",
    " 'Fine tuning',\n",
    " 'Firms',\n",
    " 'First-mover advantage',\n",
    " 'Fiscal drag',\n",
    " 'Fiscal neutrality',\n",
    " 'Fiscal policy',\n",
    " 'Fixed costs',\n",
    " 'Flotation',\n",
    " 'Forecasting',\n",
    " 'Foreign direct investment',\n",
    " 'Forward contracts',\n",
    " 'Free lunch',\n",
    " 'Free riding',\n",
    " 'Free trade',\n",
    " 'Frictional unemployment',\n",
    " 'Friedman, Milton',\n",
    " 'Full employment',\n",
    " 'Fungible',\n",
    " 'Futures',\n",
    " 'G7, G8, G10, G21, G22, G26',\n",
    " 'Game theory',\n",
    " 'GATT',\n",
    " 'GDP',\n",
    " 'Gearing',\n",
    " 'General Agreement on Tariffs and Trade',\n",
    " 'General equilibrium',\n",
    " 'Generational accounting',\n",
    " 'Giffen goods',\n",
    " 'Gilts',\n",
    " 'Gini coefficient',\n",
    " 'Global public goods',\n",
    " 'Globalisation',\n",
    " 'gni',\n",
    " 'GNP',\n",
    " 'Gold',\n",
    " 'Gold standard',\n",
    " 'Golden rule',\n",
    " 'Government',\n",
    " 'Government bonds',\n",
    " 'Government debt',\n",
    " 'Government expenditure',\n",
    " 'Government revenue',\n",
    " 'Greenspan, Alan',\n",
    " \"Gresham's law\",\n",
    " 'Gross domestic product',\n",
    " 'Gross national product',\n",
    " 'Growth',\n",
    " 'Hard currency',\n",
    " 'Hawala',\n",
    " 'Hayek, Friedrich',\n",
    " 'Hedge',\n",
    " 'Hedge funds',\n",
    " 'Herfindahl-Hirschman index',\n",
    " 'Homo economicus',\n",
    " 'Horizontal equity',\n",
    " 'Horizontal integration',\n",
    " 'Hot money',\n",
    " 'House prices',\n",
    " 'Human capital',\n",
    " 'Human Development Index',\n",
    " 'Hyper-inflation',\n",
    " 'Hypothecation',\n",
    " 'Hysteresis',\n",
    " 'ILO',\n",
    " 'IMF',\n",
    " 'Imperfect competition',\n",
    " 'Imports',\n",
    " 'Income',\n",
    " 'Income effect',\n",
    " 'Income tax',\n",
    " 'Incumbent advantage',\n",
    " 'Index numbers',\n",
    " 'Indexation',\n",
    " 'Indifference curve',\n",
    " 'Indirect taxation',\n",
    " 'Inelastic',\n",
    " 'Inequality',\n",
    " 'Inferior goods',\n",
    " 'Inflation',\n",
    " 'Inflation target',\n",
    " 'Information',\n",
    " 'Infrastructure',\n",
    " 'Innovation',\n",
    " 'Insider trading',\n",
    " 'Institutional economics',\n",
    " 'Institutional investors',\n",
    " 'Insurance',\n",
    " 'Intangible assets',\n",
    " 'Intellectual capital',\n",
    " 'Interest',\n",
    " 'Interest rate',\n",
    " 'International aid',\n",
    " 'International Labour Organisation',\n",
    " 'International Monetary Fund',\n",
    " 'International trade',\n",
    " 'Intervention',\n",
    " 'Investment',\n",
    " 'Invisible hand',\n",
    " 'Invisible trade',\n",
    " 'Inward investment',\n",
    " 'J-curve',\n",
    " 'Job search',\n",
    " 'Joint supply',\n",
    " 'Keynes, John Maynard',\n",
    " 'Keynesian',\n",
    " 'Kleptocracy',\n",
    " 'Kondratieff wave',\n",
    " 'Labour',\n",
    " 'Labour intensive',\n",
    " 'Labour market flexibility',\n",
    " 'Labour theory of value',\n",
    " 'Laffer curve',\n",
    " 'Lagging indicators',\n",
    " 'Laissez-faire',\n",
    " 'Land',\n",
    " 'Land tax',\n",
    " 'Law and economics',\n",
    " 'LBO',\n",
    " 'Leading indicators',\n",
    " 'Lender of last resort',\n",
    " 'Leverage',\n",
    " 'Leveraged buy-out',\n",
    " 'Liberal economics',\n",
    " 'Liberalisation',\n",
    " 'LIBOR',\n",
    " 'Life',\n",
    " 'Life-cycle hypothesis',\n",
    " 'Liquidity',\n",
    " 'Liquidity preference',\n",
    " 'Liquidity trap',\n",
    " 'Lock-in',\n",
    " 'Long run',\n",
    " 'Lump of labour fallacy',\n",
    " 'Lump-sum tax',\n",
    " 'Luxuries',\n",
    " 'Macroeconomic policy',\n",
    " 'Macroeconomics',\n",
    " 'Manufacturing',\n",
    " 'Marginal',\n",
    " 'Market capitalisation',\n",
    " 'Market failure',\n",
    " 'Market forces',\n",
    " 'Market power',\n",
    " 'Marshall Plan',\n",
    " 'Marshall, Alfred',\n",
    " 'Marx, Karl',\n",
    " 'Mean',\n",
    " 'Mean reversion',\n",
    " 'Median',\n",
    " 'Medium term',\n",
    " 'Menu costs',\n",
    " 'Mercantilism',\n",
    " 'Mergers and acquisitions',\n",
    " 'Microeconomics',\n",
    " 'Minimum wage',\n",
    " 'Misery index',\n",
    " 'Mixed economy',\n",
    " 'Mobility',\n",
    " 'Mode',\n",
    " 'Modelling',\n",
    " 'Modern portfolio theory',\n",
    " 'Monetarism',\n",
    " 'Monetary neutrality',\n",
    " 'Monetary policy',\n",
    " 'Money',\n",
    " 'Money illusion',\n",
    " 'Money markets',\n",
    " 'Money supply',\n",
    " 'Monopolistic competition',\n",
    " 'Monopoly',\n",
    " 'Monopsony',\n",
    " 'Moral hazard',\n",
    " 'Most-favoured nation',\n",
    " 'Multiplier',\n",
    " 'NAFTA',\n",
    " 'NAIRU',\n",
    " 'Nash equilibrium',\n",
    " 'Nation building',\n",
    " 'National debt',\n",
    " 'National income',\n",
    " 'Nationalisation',\n",
    " 'Natural monopoly',\n",
    " 'Natural rate of unemployment',\n",
    " 'Negative income tax',\n",
    " 'Neo-classical economics',\n",
    " 'Net present value',\n",
    " 'Network effect',\n",
    " 'Neutrality',\n",
    " 'New economy',\n",
    " 'New growth theory',\n",
    " 'New trade theory',\n",
    " 'NGO',\n",
    " 'Nobel prize for economics',\n",
    " 'Nominal value',\n",
    " 'Non-price competition',\n",
    " 'Normal goods',\n",
    " 'Normative economics',\n",
    " 'NPV',\n",
    " 'Null hypothesis',\n",
    " 'OECD',\n",
    " 'Offshore',\n",
    " \"Okun's law\",\n",
    " 'Oligopoly',\n",
    " 'OPEC',\n",
    " 'Open economy',\n",
    " 'Open-market operations',\n",
    " 'Opportunity cost',\n",
    " 'Optimal currency area',\n",
    " 'Optimum',\n",
    " 'Option',\n",
    " 'Output',\n",
    " 'Output gap',\n",
    " 'Outsourcing',\n",
    " 'Outward investment',\n",
    " 'Over the counter',\n",
    " 'Overheating',\n",
    " 'Overshooting',\n",
    " 'Pareto efficiency',\n",
    " 'Paris Club',\n",
    " 'Patents',\n",
    " 'Path dependence',\n",
    " 'Peak pricing',\n",
    " 'Percentage point',\n",
    " 'Percentile',\n",
    " 'Perfect competition',\n",
    " 'Permanent income hypothesis',\n",
    " 'Phillips curve',\n",
    " 'Pigou effect',\n",
    " 'Plaza Accord',\n",
    " 'Population',\n",
    " 'Positional goods',\n",
    " 'Positive economics',\n",
    " 'Poverty',\n",
    " 'Poverty trap',\n",
    " 'PPP',\n",
    " 'Precautionary motive',\n",
    " 'Predatory pricing',\n",
    " 'Preference',\n",
    " 'Present value',\n",
    " 'Price',\n",
    " 'Price discrimination',\n",
    " 'Price elasticity',\n",
    " 'Price mechanism',\n",
    " 'Price regulation',\n",
    " 'Price/earnings ratio',\n",
    " 'Principal-agent theory',\n",
    " \"Prisoners' dilemma\",\n",
    " 'Private equity',\n",
    " 'Privatisation',\n",
    " 'Probability',\n",
    " 'Producer prices',\n",
    " 'Producer surplus',\n",
    " 'Production function',\n",
    " 'Productivity',\n",
    " 'Profit',\n",
    " 'Profit margin',\n",
    " 'Profit maximisation',\n",
    " 'Progressive taxation',\n",
    " 'Propensity',\n",
    " 'Property rights',\n",
    " 'Prospect theory',\n",
    " 'Protectionism',\n",
    " 'Public goods',\n",
    " 'Public spending',\n",
    " 'Public utility',\n",
    " 'Public-private',\n",
    " 'Purchasing power parity',\n",
    " 'Q theory',\n",
    " 'Quantity theory of money',\n",
    " 'Quartile',\n",
    " 'Queueing',\n",
    " 'Quota',\n",
    " 'R squared',\n",
    " 'Random walk',\n",
    " 'Rate of return',\n",
    " 'Rate of return regulation',\n",
    " 'Ratings',\n",
    " 'Rational expectations',\n",
    " 'Rationality',\n",
    " 'Rationing',\n",
    " 'Real balance effect',\n",
    " 'Real exchange rate',\n",
    " 'Real interest rate',\n",
    " 'Real options theory',\n",
    " 'Real terms',\n",
    " 'Recession',\n",
    " 'Reciprocity',\n",
    " 'Redlining',\n",
    " 'Reflation',\n",
    " 'Regional policy',\n",
    " 'Regression analysis',\n",
    " 'Regressive tax',\n",
    " 'Regulation',\n",
    " 'Regulatory arbitrage',\n",
    " 'Regulatory capture',\n",
    " 'Regulatory failure',\n",
    " 'Regulatory risk',\n",
    " 'Relative income hypothesis',\n",
    " 'Rent',\n",
    " 'Rent-seeking',\n",
    " 'Replacement cost',\n",
    " 'Replacement rate',\n",
    " 'Repo',\n",
    " 'Required return',\n",
    " 'Rescheduling',\n",
    " 'Reservation wage',\n",
    " 'Reserve currency',\n",
    " 'Reserve ratio',\n",
    " 'Reserve requirements',\n",
    " 'Reserves',\n",
    " 'Residual risk',\n",
    " 'Restrictive practice',\n",
    " 'Returns',\n",
    " 'Revealed preference',\n",
    " 'Ricardian equivalence',\n",
    " 'Ricardo, David',\n",
    " 'Risk',\n",
    " 'Risk averse',\n",
    " 'Risk management',\n",
    " 'Risk neutral',\n",
    " 'Risk premium',\n",
    " 'Risk seeking',\n",
    " 'Risk-free rate',\n",
    " 'Safe harbour',\n",
    " 'Satisficing',\n",
    " 'Savings',\n",
    " \"Say's law\",\n",
    " 'Scalability',\n",
    " 'Scarcity',\n",
    " 'Scenario analysis',\n",
    " 'Schumpeter, Joseph',\n",
    " 'SDR',\n",
    " 'Search costs',\n",
    " 'Seasonally adjusted',\n",
    " 'Second-best theory',\n",
    " 'Secondary market',\n",
    " 'Securities',\n",
    " 'Securitisation',\n",
    " 'Seignorage',\n",
    " \"Seller's market\",\n",
    " 'Seniority',\n",
    " 'Sequencing',\n",
    " 'Services',\n",
    " 'Shadow price',\n",
    " 'Shareholder value',\n",
    " 'Shares',\n",
    " 'Sharpe ratio',\n",
    " 'Shock',\n",
    " 'Short-termism',\n",
    " 'Shorting',\n",
    " 'Signalling',\n",
    " 'Simple interest',\n",
    " 'Smith, Adam',\n",
    " 'Social benefits/costs',\n",
    " 'Social capital',\n",
    " 'Social market',\n",
    " 'Socialism',\n",
    " 'Soft currency',\n",
    " 'Soft dollars',\n",
    " 'Soft loan',\n",
    " 'Sovereign risk',\n",
    " 'Speculation',\n",
    " 'Speculative motive',\n",
    " 'Spot price',\n",
    " 'Spread',\n",
    " 'Stabilisation',\n",
    " 'Stability and Growth Pact',\n",
    " 'Stagflation',\n",
    " 'Stagnation',\n",
    " 'Stakeholders',\n",
    " 'Standard deviation',\n",
    " 'Standard error',\n",
    " 'Statistical significance',\n",
    " 'Sterilised intervention',\n",
    " 'Sticky prices',\n",
    " 'Stochastic process',\n",
    " 'Stocks',\n",
    " 'Stress-testing',\n",
    " 'Structural adjustment',\n",
    " 'Structural unemployment',\n",
    " 'Subsidy',\n",
    " 'Substitute goods',\n",
    " 'Substitution effect',\n",
    " 'Sunk costs',\n",
    " 'Supply',\n",
    " 'Supply curve',\n",
    " 'Supply-side policies',\n",
    " 'Sustainable growth',\n",
    " 'Swap',\n",
    " 'Systematic risk',\n",
    " 'Systemic risk',\n",
    " 'Tangible assets',\n",
    " 'Tariff',\n",
    " 'Tax arbitrage',\n",
    " 'Tax avoidance',\n",
    " 'Tax base',\n",
    " 'Tax burden',\n",
    " 'Tax competition',\n",
    " 'Tax efficient',\n",
    " 'Tax evasion',\n",
    " 'Tax haven',\n",
    " 'Tax incidence',\n",
    " 'Taxation',\n",
    " 'Technical progress',\n",
    " 'Terms of trade',\n",
    " 'Third way',\n",
    " 'Tick',\n",
    " 'Tiger economies',\n",
    " 'Time series',\n",
    " 'Time value of money',\n",
    " 'Tobin, James',\n",
    " 'Total return',\n",
    " 'Trade',\n",
    " 'Trade area',\n",
    " 'Trade cycle',\n",
    " 'Trade deficit/surplus',\n",
    " 'Trade unions',\n",
    " 'Trade-weighted exchange rate',\n",
    " 'Tragedy of the commons',\n",
    " 'Transaction costs',\n",
    " 'Transfer pricing',\n",
    " 'Transfers',\n",
    " 'Transition economies',\n",
    " 'Transmission mechanism',\n",
    " 'Transparency',\n",
    " 'Treasury bills',\n",
    " 'Trough',\n",
    " 'Trust',\n",
    " 'Uncertainty',\n",
    " 'Underground economy',\n",
    " 'Unemployment',\n",
    " 'Unemployment trap',\n",
    " 'Unions',\n",
    " 'Usury',\n",
    " 'Utility',\n",
    " 'Value added',\n",
    " 'Value at risk',\n",
    " 'Variable costs',\n",
    " 'Velocity of circulation',\n",
    " 'Venture capital',\n",
    " 'Vertical equity',\n",
    " 'Vertical integration',\n",
    " 'Visible trade',\n",
    " 'Volatility',\n",
    " 'Voluntary unemployment',\n",
    " 'Wage drift',\n",
    " 'Wages',\n",
    " 'Wealth effect',\n",
    " 'Wealth tax',\n",
    " 'Weightless economy',\n",
    " 'Welfare',\n",
    " 'Welfare economics',\n",
    " 'Welfare to work',\n",
    " 'Windfall gains',\n",
    " 'Windfall profit',\n",
    " 'Winner-takes-all markets',\n",
    " 'Withholding tax',\n",
    " 'World Bank',\n",
    " 'World Trade Organisation']"
   ]
  },
  {
   "cell_type": "code",
   "execution_count": 22,
   "metadata": {},
   "outputs": [
    {
     "name": "stderr",
     "output_type": "stream",
     "text": [
      "  2%|▏         | 6/352 [00:29<27:19,  4.74s/it]"
     ]
    },
    {
     "name": "stdout",
     "output_type": "stream",
     "text": [
      "CPU Most BIOS chips are socketed, meaning that the chip resides in a socket, much like your CPU, but without a lever.\n"
     ]
    },
    {
     "name": "stderr",
     "output_type": "stream",
     "text": [
      "  4%|▍         | 15/352 [01:17<29:01,  5.17s/it]"
     ]
    },
    {
     "name": "stdout",
     "output_type": "stream",
     "text": [
      "IC Foods high in arylalkylamines have also been implicated in triggering IC symptoms.\n"
     ]
    },
    {
     "name": "stderr",
     "output_type": "stream",
     "text": [
      "  5%|▌         | 18/352 [01:33<29:00,  5.21s/it]"
     ]
    },
    {
     "name": "stdout",
     "output_type": "stream",
     "text": [
      "Internet of Things This is likely to give rise to an Internet of Things, a state of uber-connectivity.\n"
     ]
    },
    {
     "name": "stderr",
     "output_type": "stream",
     "text": [
      "  6%|▌         | 20/352 [01:43<28:57,  5.23s/it]"
     ]
    },
    {
     "name": "stdout",
     "output_type": "stream",
     "text": [
      "LU In Southeast Umbrian, for example, neuter lo pane is 'the bread', while masculine lu pane refers to an individual piece or loaf of bread.\n"
     ]
    },
    {
     "name": "stderr",
     "output_type": "stream",
     "text": [
      "  8%|▊         | 29/352 [02:26<25:39,  4.77s/it]"
     ]
    },
    {
     "name": "stdout",
     "output_type": "stream",
     "text": [
      "RAM That said cut ups of The Smiths, S Club 7, Frank Sinatra, Cypress Hill, RAM Trilogy and David Bowie are all present in one form or another.\n"
     ]
    },
    {
     "name": "stderr",
     "output_type": "stream",
     "text": [
      "  9%|▉         | 31/352 [02:38<30:16,  5.66s/it]"
     ]
    },
    {
     "name": "stdout",
     "output_type": "stream",
     "text": [
      "Systems Perhaps they are aware of the systems of bovicide but choose to remain tight-lipped.\n"
     ]
    },
    {
     "name": "stderr",
     "output_type": "stream",
     "text": [
      " 10%|▉         | 35/352 [02:57<26:13,  4.96s/it]"
     ]
    },
    {
     "name": "stdout",
     "output_type": "stream",
     "text": [
      "UAV Once the system detects a nearby UAV, it alerts residents through a sound or light-based alert.\n"
     ]
    },
    {
     "name": "stderr",
     "output_type": "stream",
     "text": [
      "\r",
      " 10%|█         | 36/352 [03:02<25:10,  4.78s/it]"
     ]
    },
    {
     "name": "stdout",
     "output_type": "stream",
     "text": [
      "UE The UE consists of greenish marlaceous clays with silicon sandstone inter-layers, foraminifers, shales of ostracordes.\n"
     ]
    },
    {
     "name": "stderr",
     "output_type": "stream",
     "text": [
      "\r",
      " 11%|█         | 37/352 [03:07<25:20,  4.83s/it]"
     ]
    },
    {
     "name": "stdout",
     "output_type": "stream",
     "text": [
      "accelerometer The motion is sensed by an accelerometer disposed within the device that is formed of a monolithic integrated circuit chip.\n"
     ]
    },
    {
     "name": "stderr",
     "output_type": "stream",
     "text": [
      "\r",
      " 11%|█         | 38/352 [03:14<28:54,  5.52s/it]"
     ]
    },
    {
     "name": "stdout",
     "output_type": "stream",
     "text": [
      "aircraft The Cessna 310 which crashed on Saturday is a high-powered six-seater aircraft, capable of flying long distances.\n"
     ]
    },
    {
     "name": "stderr",
     "output_type": "stream",
     "text": [
      " 11%|█▏        | 40/352 [03:24<28:19,  5.45s/it]"
     ]
    },
    {
     "name": "stdout",
     "output_type": "stream",
     "text": [
      "analog signal This separates analog signal conditioning in hardware from digital signal processing in software and results in significant advantages.\n"
     ]
    },
    {
     "name": "stderr",
     "output_type": "stream",
     "text": [
      " 12%|█▏        | 42/352 [03:36<30:17,  5.86s/it]"
     ]
    },
    {
     "name": "stdout",
     "output_type": "stream",
     "text": [
      "application The application of a multivocal approach to Roman archaeology represents a particular challenge.\n"
     ]
    },
    {
     "name": "stderr",
     "output_type": "stream",
     "text": [
      " 14%|█▎        | 48/352 [04:06<25:40,  5.07s/it]"
     ]
    },
    {
     "name": "stdout",
     "output_type": "stream",
     "text": [
      "automation system Calculate your budget, The benefits of your home automation system will depend on what your budget will allow.\n"
     ]
    },
    {
     "name": "stderr",
     "output_type": "stream",
     "text": [
      " 14%|█▍        | 50/352 [04:17<26:19,  5.23s/it]"
     ]
    },
    {
     "name": "stdout",
     "output_type": "stream",
     "text": [
      "biometric The software and terminals can be linked with biometric equipment to verify the identity of all who electronically clock in.\n"
     ]
    },
    {
     "name": "stderr",
     "output_type": "stream",
     "text": [
      " 15%|█▌        | 54/352 [04:39<28:03,  5.65s/it]"
     ]
    },
    {
     "name": "stdout",
     "output_type": "stream",
     "text": [
      "client I therefore agree that the client care letter or any contentious business agreement should be attached to the bill of costs.\n"
     ]
    },
    {
     "name": "stderr",
     "output_type": "stream",
     "text": [
      " 17%|█▋        | 60/352 [05:07<23:59,  4.93s/it]"
     ]
    },
    {
     "name": "stdout",
     "output_type": "stream",
     "text": [
      "collecting data Happily, the technology is now doing its job, collecting data methodically and with exquisite sensitivity.\n"
     ]
    },
    {
     "name": "stderr",
     "output_type": "stream",
     "text": [
      " 18%|█▊        | 63/352 [05:24<26:46,  5.56s/it]"
     ]
    },
    {
     "name": "stdout",
     "output_type": "stream",
     "text": [
      "communication A space shuttle contingency has been declared in Mission Control as a result of the loss of communication with the Space Shuttle Columbia.\n"
     ]
    },
    {
     "name": "stderr",
     "output_type": "stream",
     "text": [
      " 18%|█▊        | 65/352 [05:33<25:02,  5.24s/it]"
     ]
    },
    {
     "name": "stdout",
     "output_type": "stream",
     "text": [
      "communication device People now want a phone that can switch easily from communication device to music player.\n"
     ]
    },
    {
     "name": "stderr",
     "output_type": "stream",
     "text": [
      " 21%|██▏       | 75/352 [06:24<25:59,  5.63s/it]"
     ]
    },
    {
     "name": "stdout",
     "output_type": "stream",
     "text": [
      "computer memory The research produced an article and a patent for a novel type of dynamic computer memory.\n"
     ]
    },
    {
     "name": "stderr",
     "output_type": "stream",
     "text": [
      "\r",
      " 22%|██▏       | 76/352 [06:29<25:53,  5.63s/it]"
     ]
    },
    {
     "name": "stdout",
     "output_type": "stream",
     "text": [
      "computer network They have an office in Sandyford in Dublin, but we've designed a computer network for their operation in Pinewood Studios in London.\n"
     ]
    },
    {
     "name": "stderr",
     "output_type": "stream",
     "text": [
      "\r",
      " 22%|██▏       | 77/352 [06:36<27:03,  5.90s/it]"
     ]
    },
    {
     "name": "stdout",
     "output_type": "stream",
     "text": [
      "computer program Another thing a computer program cannot tell you is where to find breathing room during your morning commute.\n"
     ]
    },
    {
     "name": "stderr",
     "output_type": "stream",
     "text": [
      "\r",
      " 22%|██▏       | 78/352 [06:42<27:51,  6.10s/it]"
     ]
    },
    {
     "name": "stdout",
     "output_type": "stream",
     "text": [
      "computer system He has quite a tale about trying to get a hotel room and the pathetic computer system that was at the bottom of all his woes.\n"
     ]
    },
    {
     "name": "stderr",
     "output_type": "stream",
     "text": [
      " 23%|██▎       | 81/352 [06:59<25:54,  5.73s/it]"
     ]
    },
    {
     "name": "stdout",
     "output_type": "stream",
     "text": [
      "computing device What's more, the right software could convert the Xbox into a far more useful computing device than it currently is.\n"
     ]
    },
    {
     "name": "stderr",
     "output_type": "stream",
     "text": [
      "\r",
      " 23%|██▎       | 82/352 [07:06<28:05,  6.24s/it]"
     ]
    },
    {
     "name": "stdout",
     "output_type": "stream",
     "text": [
      "conference call The spokeswoman said she knew very little more than this but apparently the press office will have a conference call with the techies very soon.\n"
     ]
    },
    {
     "name": "stderr",
     "output_type": "stream",
     "text": [
      " 24%|██▍       | 84/352 [07:15<23:49,  5.33s/it]"
     ]
    },
    {
     "name": "stdout",
     "output_type": "stream",
     "text": [
      "control unit The work is described as a large cubic structure that can be triggered by a control unit to affect the earth's speed of rotation.\n"
     ]
    },
    {
     "name": "stderr",
     "output_type": "stream",
     "text": [
      "\r",
      " 24%|██▍       | 85/352 [07:22<25:53,  5.82s/it]"
     ]
    },
    {
     "name": "stdout",
     "output_type": "stream",
     "text": [
      "controller Using an ohmmeter, it was determined that the three different LEDs are connected to the first three pins of port 1 on the main controller chip.\n"
     ]
    },
    {
     "name": "stderr",
     "output_type": "stream",
     "text": [
      " 25%|██▌       | 88/352 [07:38<24:40,  5.61s/it]"
     ]
    },
    {
     "name": "stdout",
     "output_type": "stream",
     "text": [
      "data Here, we draw together recent data on diverse centriole movements to decipher common themes in how centrioles move.\n"
     ]
    },
    {
     "name": "stderr",
     "output_type": "stream",
     "text": [
      " 26%|██▌       | 91/352 [07:53<23:20,  5.37s/it]"
     ]
    },
    {
     "name": "stdout",
     "output_type": "stream",
     "text": [
      "data file The interrogator has the facility of analyzing data on a channel-by-channel basis for any data file.\n"
     ]
    },
    {
     "name": "stderr",
     "output_type": "stream",
     "text": [
      " 27%|██▋       | 95/352 [08:13<22:30,  5.25s/it]"
     ]
    },
    {
     "name": "stdout",
     "output_type": "stream",
     "text": [
      "data point It is obvious that a single data point may not be representative of the overall autecology of this species.\n"
     ]
    },
    {
     "name": "stderr",
     "output_type": "stream",
     "text": [
      "\r",
      " 27%|██▋       | 96/352 [08:19<22:49,  5.35s/it]"
     ]
    },
    {
     "name": "stdout",
     "output_type": "stream",
     "text": [
      "data processor This function allows the acquisition of raw values transmitted by the force sensor data processor via the RS485 serial interface.\n"
     ]
    },
    {
     "name": "stderr",
     "output_type": "stream",
     "text": [
      " 29%|██▊       | 101/352 [08:42<20:38,  4.93s/it]"
     ]
    },
    {
     "name": "stdout",
     "output_type": "stream",
     "text": [
      "data recovery Every minute that a critical application is unavailable is costly and, therefore, faster data recovery reduces financial losses.\n"
     ]
    },
    {
     "name": "stderr",
     "output_type": "stream",
     "text": [
      " 30%|██▉       | 105/352 [09:02<20:09,  4.90s/it]"
     ]
    },
    {
     "name": "stdout",
     "output_type": "stream",
     "text": [
      "data stream The problem is not related to a particular batch of processors, or any one instruction or data stream, Grimes said.\n"
     ]
    },
    {
     "name": "stderr",
     "output_type": "stream",
     "text": [
      " 30%|███       | 107/352 [09:12<21:02,  5.15s/it]"
     ]
    },
    {
     "name": "stdout",
     "output_type": "stream",
     "text": [
      "data structure A B-tree is a data structure used frequently in database indexing and storage routines.\n"
     ]
    },
    {
     "name": "stderr",
     "output_type": "stream",
     "text": [
      " 31%|███▏      | 110/352 [09:27<20:22,  5.05s/it]"
     ]
    },
    {
     "name": "stdout",
     "output_type": "stream",
     "text": [
      "data transmission The memory manager manages data transmission and reception between a host computer and a flash memory.\n"
     ]
    },
    {
     "name": "stderr",
     "output_type": "stream",
     "text": [
      " 32%|███▏      | 114/352 [09:44<18:32,  4.67s/it]"
     ]
    },
    {
     "name": "stdout",
     "output_type": "stream",
     "text": [
      "data types The remainder of the program iterates through a number of PCM data types, starting with the stream types.\n"
     ]
    },
    {
     "name": "stderr",
     "output_type": "stream",
     "text": [
      " 34%|███▎      | 118/352 [10:03<18:25,  4.72s/it]"
     ]
    },
    {
     "name": "stdout",
     "output_type": "stream",
     "text": [
      "data visualization Let me give you some examples of how data visualization flash charts simply information dissemination and consumption.\n"
     ]
    },
    {
     "name": "stderr",
     "output_type": "stream",
     "text": [
      "\r",
      " 34%|███▍      | 119/352 [10:09<20:42,  5.33s/it]"
     ]
    },
    {
     "name": "stdout",
     "output_type": "stream",
     "text": [
      "database To be sure, no one has ever proved that the government has mined the central database to single out anyone for criticizing the Establishment.\n"
     ]
    },
    {
     "name": "stderr",
     "output_type": "stream",
     "text": [
      " 36%|███▌      | 126/352 [10:42<18:20,  4.87s/it]"
     ]
    },
    {
     "name": "stdout",
     "output_type": "stream",
     "text": [
      "decision maker The other benefit comes when the decision maker synthesizes conflicting opinions or merely listens while experts argue among themselves.\n"
     ]
    },
    {
     "name": "stderr",
     "output_type": "stream",
     "text": [
      " 37%|███▋      | 131/352 [11:06<18:32,  5.03s/it]"
     ]
    },
    {
     "name": "stdout",
     "output_type": "stream",
     "text": [
      "device So filmmakers usually resort to a plot device to compensate for this absence.\n"
     ]
    },
    {
     "name": "stderr",
     "output_type": "stream",
     "text": [
      " 38%|███▊      | 133/352 [11:17<19:45,  5.41s/it]"
     ]
    },
    {
     "name": "stdout",
     "output_type": "stream",
     "text": [
      "devices As instant messaging migrates to cell phones and other wireless devices, interoperability will be even more crucial.\n"
     ]
    },
    {
     "name": "stderr",
     "output_type": "stream",
     "text": [
      "\r",
      " 38%|███▊      | 134/352 [11:23<20:18,  5.59s/it]"
     ]
    },
    {
     "name": "stdout",
     "output_type": "stream",
     "text": [
      "digital image The resulting digital image has been enlarged and printed onto arches paper.\n"
     ]
    },
    {
     "name": "stderr",
     "output_type": "stream",
     "text": [
      "\r",
      " 38%|███▊      | 135/352 [11:29<20:37,  5.70s/it]"
     ]
    },
    {
     "name": "stdout",
     "output_type": "stream",
     "text": [
      "digital signal As existing analogue transmitters are switched off region by region, the strength of the digital signal will be boosted.\n"
     ]
    },
    {
     "name": "stderr",
     "output_type": "stream",
     "text": [
      " 40%|███▉      | 140/352 [11:50<16:43,  4.73s/it]"
     ]
    },
    {
     "name": "stdout",
     "output_type": "stream",
     "text": [
      "display panel Also featured there is a display panel in the corporate blue of the university's logo, plus green and lilac to blend with the furnishing.\n"
     ]
    },
    {
     "name": "stderr",
     "output_type": "stream",
     "text": [
      " 41%|████▏     | 146/352 [12:16<15:27,  4.50s/it]"
     ]
    },
    {
     "name": "stdout",
     "output_type": "stream",
     "text": [
      "electronic component And even the wrong kind of electricity, such as a brief crackling spark of static electricity, can do in a small delicate electronic component.\n"
     ]
    },
    {
     "name": "stderr",
     "output_type": "stream",
     "text": [
      "\r",
      " 42%|████▏     | 147/352 [12:20<14:32,  4.26s/it]"
     ]
    },
    {
     "name": "stdout",
     "output_type": "stream",
     "text": [
      "electronic device Dear Sir, I have come across an electronic device, which is called a perpetual motion machine.\n"
     ]
    },
    {
     "name": "stderr",
     "output_type": "stream",
     "text": [
      " 43%|████▎     | 150/352 [12:35<17:15,  5.12s/it]"
     ]
    },
    {
     "name": "stdout",
     "output_type": "stream",
     "text": [
      "emails I have a long list of people who I need to send emails to, and it's growing by the day.\n"
     ]
    },
    {
     "name": "stderr",
     "output_type": "stream",
     "text": [
      " 45%|████▌     | 159/352 [13:15<14:42,  4.57s/it]"
     ]
    },
    {
     "name": "stdout",
     "output_type": "stream",
     "text": [
      "feature extraction Considering the ubiety of the bridges and the surroundings, this paper focused on the water recognition based on feature extraction.\n"
     ]
    },
    {
     "name": "stderr",
     "output_type": "stream",
     "text": [
      " 46%|████▋     | 163/352 [13:35<16:01,  5.08s/it]"
     ]
    },
    {
     "name": "stdout",
     "output_type": "stream",
     "text": [
      "files The scanner allows you to convert the film to digital files and take advantage of the use of software editing, enhancing and publishing.\n"
     ]
    },
    {
     "name": "stderr",
     "output_type": "stream",
     "text": [
      "\r",
      " 47%|████▋     | 164/352 [13:41<17:30,  5.59s/it]"
     ]
    },
    {
     "name": "stdout",
     "output_type": "stream",
     "text": [
      "filters Different lenses and different filters can produce different degrees of softness.\n"
     ]
    },
    {
     "name": "stderr",
     "output_type": "stream",
     "text": [
      " 48%|████▊     | 169/352 [14:06<16:28,  5.40s/it]"
     ]
    },
    {
     "name": "stdout",
     "output_type": "stream",
     "text": [
      "gateway The main gateway to St Jude's Shrine becomes visible a mile or so out of Omeath on the main road to Carlingford in Ireland's County Louth.\n"
     ]
    },
    {
     "name": "stderr",
     "output_type": "stream",
     "text": [
      " 51%|█████     | 180/352 [14:55<13:31,  4.72s/it]"
     ]
    },
    {
     "name": "stdout",
     "output_type": "stream",
     "text": [
      "image processing This method combines multiple white light interferometric sensors and advanced image processing.\n"
     ]
    },
    {
     "name": "stderr",
     "output_type": "stream",
     "text": [
      " 52%|█████▏    | 182/352 [15:04<13:32,  4.78s/it]"
     ]
    },
    {
     "name": "stdout",
     "output_type": "stream",
     "text": [
      "image sensor The lens stores and then focuses light from the video that you are capturing onto the image sensor located behind it.\n"
     ]
    },
    {
     "name": "stderr",
     "output_type": "stream",
     "text": [
      " 54%|█████▎    | 189/352 [15:35<12:37,  4.65s/it]"
     ]
    },
    {
     "name": "stdout",
     "output_type": "stream",
     "text": [
      "input data For huge amounts of input data, the maximum likelihood estimator cannot be evaluated.\n"
     ]
    },
    {
     "name": "stderr",
     "output_type": "stream",
     "text": [
      " 55%|█████▌    | 194/352 [15:58<12:23,  4.71s/it]"
     ]
    },
    {
     "name": "stdout",
     "output_type": "stream",
     "text": [
      "laser light The two gaze intensely into each other's eyes, while a blue laser light flickers within an eyeball-like plastic dome.\n"
     ]
    },
    {
     "name": "stderr",
     "output_type": "stream",
     "text": [
      " 57%|█████▋    | 201/352 [16:29<12:15,  4.87s/it]"
     ]
    },
    {
     "name": "stdout",
     "output_type": "stream",
     "text": [
      "machine Would you mind giving us a demonstration so that we can see how the machine works?\n"
     ]
    },
    {
     "name": "stderr",
     "output_type": "stream",
     "text": [
      " 59%|█████▉    | 208/352 [17:01<11:29,  4.79s/it]"
     ]
    },
    {
     "name": "stdout",
     "output_type": "stream",
     "text": [
      "medical treatments Scientists in Texas have successfully cloned a kitty, an event which could eventually help lead to new human medicines and medical treatments.\n"
     ]
    },
    {
     "name": "stderr",
     "output_type": "stream",
     "text": [
      "\r",
      " 59%|█████▉    | 209/352 [17:08<13:00,  5.46s/it]"
     ]
    },
    {
     "name": "stdout",
     "output_type": "stream",
     "text": [
      "memory He finally gave in and belted out the limited lyrics from memory accompanied by flat notes.\n"
     ]
    },
    {
     "name": "stderr",
     "output_type": "stream",
     "text": [
      " 61%|██████▏   | 216/352 [17:42<11:59,  5.29s/it]"
     ]
    },
    {
     "name": "stdout",
     "output_type": "stream",
     "text": [
      "methods Once in southern Europe, many animals are slaughtered in abattoirs using methods which are illegal in Britain.\n"
     ]
    },
    {
     "name": "stderr",
     "output_type": "stream",
     "text": [
      "\r",
      " 62%|██████▏   | 217/352 [17:47<11:35,  5.16s/it]"
     ]
    },
    {
     "name": "stdout",
     "output_type": "stream",
     "text": [
      "microprocessor A bus interface enabling communication over a bus between the memory core of the display controller and the microprocessor is included.\n"
     ]
    },
    {
     "name": "stderr",
     "output_type": "stream",
     "text": [
      "\r",
      " 62%|██████▏   | 218/352 [17:52<11:20,  5.08s/it]"
     ]
    },
    {
     "name": "stdout",
     "output_type": "stream",
     "text": [
      "mobile application Mobile application platform firm Xiam has signed a strategic partnership with mobile marketing company Rtn2Sndr.\n"
     ]
    },
    {
     "name": "stderr",
     "output_type": "stream",
     "text": [
      " 63%|██████▎   | 221/352 [18:07<11:26,  5.24s/it]"
     ]
    },
    {
     "name": "stdout",
     "output_type": "stream",
     "text": [
      "model In recent years, Japan, once a model of fiscal rectitude, spent wildly on public works projects in an effort to stimulate the economy.\n"
     ]
    },
    {
     "name": "stderr",
     "output_type": "stream",
     "text": [
      " 66%|██████▌   | 233/352 [19:02<10:26,  5.27s/it]"
     ]
    },
    {
     "name": "stdout",
     "output_type": "stream",
     "text": [
      "network An immense network of 10,000 to 20,000 Alpha processors will form the basis of this formidable number cruncher.\n"
     ]
    },
    {
     "name": "stderr",
     "output_type": "stream",
     "text": [
      " 70%|██████▉   | 245/352 [19:57<08:12,  4.60s/it]"
     ]
    },
    {
     "name": "stdout",
     "output_type": "stream",
     "text": [
      "passcode Use the Change Password button to change the passcode, which can be any set of numbers of any length.\n"
     ]
    },
    {
     "name": "stderr",
     "output_type": "stream",
     "text": [
      " 70%|███████   | 248/352 [20:12<08:59,  5.19s/it]"
     ]
    },
    {
     "name": "stdout",
     "output_type": "stream",
     "text": [
      "photos I mean, some parents actually post photos of these abominable homunculi, otherwise known as babies.\n"
     ]
    },
    {
     "name": "stderr",
     "output_type": "stream",
     "text": [
      " 71%|███████   | 250/352 [20:21<08:19,  4.90s/it]"
     ]
    },
    {
     "name": "stdout",
     "output_type": "stream",
     "text": [
      "photosensors Light resulting from the laser excitation of fluorochromed cells is detected by photosensors and converted into a set of digital values.\n"
     ]
    },
    {
     "name": "stderr",
     "output_type": "stream",
     "text": [
      " 72%|███████▏  | 254/352 [20:42<08:36,  5.27s/it]"
     ]
    },
    {
     "name": "stdout",
     "output_type": "stream",
     "text": [
      "power converter The report firstly reviews the basic information of Wind Power Converter including its classification, application and manufacturing technology.\n"
     ]
    },
    {
     "name": "stderr",
     "output_type": "stream",
     "text": [
      " 73%|███████▎  | 258/352 [21:00<07:34,  4.83s/it]"
     ]
    },
    {
     "name": "stdout",
     "output_type": "stream",
     "text": [
      "privacy protection He's been a leader in election law reforms the past two sessions and an advocate of consumer privacy protection.\n"
     ]
    },
    {
     "name": "stderr",
     "output_type": "stream",
     "text": [
      " 74%|███████▍  | 261/352 [21:15<07:53,  5.20s/it]"
     ]
    },
    {
     "name": "stdout",
     "output_type": "stream",
     "text": [
      "processor Virtually any UNIX or Linux system will compile SISAL code in single processor mode.\n"
     ]
    },
    {
     "name": "stderr",
     "output_type": "stream",
     "text": [
      "\r",
      " 74%|███████▍  | 262/352 [21:22<08:29,  5.66s/it]"
     ]
    },
    {
     "name": "stdout",
     "output_type": "stream",
     "text": [
      "processors Traditional photo processors are expected to offer digital photofinishing services in their retail centers.\n"
     ]
    },
    {
     "name": "stderr",
     "output_type": "stream",
     "text": [
      " 75%|███████▌  | 265/352 [21:37<08:10,  5.64s/it]"
     ]
    },
    {
     "name": "stdout",
     "output_type": "stream",
     "text": [
      "protocol As noted above, the thermotropic phase behavior of these lipids changes after the low-temperature incubation protocol is applied.\n"
     ]
    },
    {
     "name": "stderr",
     "output_type": "stream",
     "text": [
      " 76%|███████▌  | 267/352 [21:47<07:28,  5.28s/it]"
     ]
    },
    {
     "name": "stdout",
     "output_type": "stream",
     "text": [
      "query In non-Java-compliant operating systems, manual coding of parameters is needed to set up the query.\n"
     ]
    },
    {
     "name": "stderr",
     "output_type": "stream",
     "text": [
      " 77%|███████▋  | 270/352 [22:00<06:27,  4.73s/it]"
     ]
    },
    {
     "name": "stdout",
     "output_type": "stream",
     "text": [
      "ransomware The way around this particular ransomware can be achieved one of three ways.\n"
     ]
    },
    {
     "name": "stderr",
     "output_type": "stream",
     "text": [
      "\r",
      " 77%|███████▋  | 271/352 [22:06<06:47,  5.04s/it]"
     ]
    },
    {
     "name": "stdout",
     "output_type": "stream",
     "text": [
      "record We learn from the record kept at the Freedmen's Bureau, that there are two thousand two hundred children here.\n"
     ]
    },
    {
     "name": "stderr",
     "output_type": "stream",
     "text": [
      " 78%|███████▊  | 273/352 [22:17<07:06,  5.40s/it]"
     ]
    },
    {
     "name": "stdout",
     "output_type": "stream",
     "text": [
      "records A seismograph is a device that measures and records the intensity of earthquakes.\n"
     ]
    },
    {
     "name": "stderr",
     "output_type": "stream",
     "text": [
      " 79%|███████▊  | 277/352 [22:37<06:39,  5.33s/it]"
     ]
    },
    {
     "name": "stdout",
     "output_type": "stream",
     "text": [
      "request The judge rejects a media request to open more of jury selection to the public.\n"
     ]
    },
    {
     "name": "stderr",
     "output_type": "stream",
     "text": [
      "\r",
      " 79%|███████▉  | 278/352 [22:44<07:11,  5.83s/it]"
     ]
    },
    {
     "name": "stdout",
     "output_type": "stream",
     "text": [
      "requests The Government has consistently snubbed his requests for an official inquiry into the affair.\n"
     ]
    },
    {
     "name": "stderr",
     "output_type": "stream",
     "text": [
      "\r",
      " 79%|███████▉  | 279/352 [22:51<07:33,  6.21s/it]"
     ]
    },
    {
     "name": "stdout",
     "output_type": "stream",
     "text": [
      "response Growth response in distinction to the phototropic growth response, typically follows symmetrical illumination of the sporangiophore from above.\n"
     ]
    },
    {
     "name": "stderr",
     "output_type": "stream",
     "text": [
      " 80%|███████▉  | 281/352 [23:01<06:40,  5.64s/it]"
     ]
    },
    {
     "name": "stdout",
     "output_type": "stream",
     "text": [
      "scanner Then she noticed the DNA scanner and the primary security glitching as well, the other things that had been functional during the blast.\n"
     ]
    },
    {
     "name": "stderr",
     "output_type": "stream",
     "text": [
      " 80%|████████  | 283/352 [23:11<06:16,  5.46s/it]"
     ]
    },
    {
     "name": "stdout",
     "output_type": "stream",
     "text": [
      "semiconductor device Semiconductor devices and methods to form a contact of a semiconductor device are disclosed.\n"
     ]
    },
    {
     "name": "stderr",
     "output_type": "stream",
     "text": [
      " 82%|████████▏ | 290/352 [23:45<05:27,  5.28s/it]"
     ]
    },
    {
     "name": "stdout",
     "output_type": "stream",
     "text": [
      "sensors Then, using an electronic compass and ultrasonic sensors, it cuts the area about 10 times, ensuring a minimum of missed patches.\n"
     ]
    },
    {
     "name": "stderr",
     "output_type": "stream",
     "text": [
      " 83%|████████▎ | 292/352 [23:55<05:09,  5.15s/it]"
     ]
    },
    {
     "name": "stdout",
     "output_type": "stream",
     "text": [
      "server A print server can rip, store and queue hundreds of megabytes of print jobs without slowing down the network.\n"
     ]
    },
    {
     "name": "stderr",
     "output_type": "stream",
     "text": [
      " 84%|████████▍ | 296/352 [24:14<04:45,  5.09s/it]"
     ]
    },
    {
     "name": "stdout",
     "output_type": "stream",
     "text": [
      "signal These findings illustrate that a prokaryote possesses a signal trafficking system with features common to those used by higher organisms.\n"
     ]
    },
    {
     "name": "stderr",
     "output_type": "stream",
     "text": [
      " 85%|████████▌ | 300/352 [24:33<04:12,  4.86s/it]"
     ]
    },
    {
     "name": "stdout",
     "output_type": "stream",
     "text": [
      "software application For example, suppose a customer wants to lease a software application that's stored on the Internet.\n"
     ]
    },
    {
     "name": "stderr",
     "output_type": "stream",
     "text": [
      " 86%|████████▌ | 303/352 [24:49<04:16,  5.23s/it]"
     ]
    },
    {
     "name": "stdout",
     "output_type": "stream",
     "text": [
      "software instructions You can follow the software instructions to adjust your computer screen controls manually, but as you can guess, human perception is usually subjective.\n"
     ]
    },
    {
     "name": "stderr",
     "output_type": "stream",
     "text": [
      " 88%|████████▊ | 310/352 [25:21<03:23,  4.84s/it]"
     ]
    },
    {
     "name": "stdout",
     "output_type": "stream",
     "text": [
      "storage medium If you can justify the price and are looking for some portable storage medium then this is something you should take a look at.\n"
     ]
    },
    {
     "name": "stderr",
     "output_type": "stream",
     "text": [
      " 89%|████████▊ | 312/352 [25:30<03:15,  4.89s/it]"
     ]
    },
    {
     "name": "stdout",
     "output_type": "stream",
     "text": [
      "stream These are old floodplains that remain relatively high above the present floodplain and indicate former courses of a stream.\n"
     ]
    },
    {
     "name": "stderr",
     "output_type": "stream",
     "text": [
      " 90%|█████████ | 318/352 [26:11<03:23,  5.99s/it]"
     ]
    },
    {
     "name": "stdout",
     "output_type": "stream",
     "text": [
      "surgical procedure Mercifully, just when a major surgical procedure looked inevitable for the miscreant toddler, Mr Scott had a flash of inspiration.\n"
     ]
    },
    {
     "name": "stderr",
     "output_type": "stream",
     "text": [
      "\r",
      " 91%|█████████ | 319/352 [26:18<03:25,  6.23s/it]"
     ]
    },
    {
     "name": "stdout",
     "output_type": "stream",
     "text": [
      "system Every religion and value system was restricted, and polytheism was strengthened to destroy real tolerance and compromise.\n"
     ]
    },
    {
     "name": "stderr",
     "output_type": "stream",
     "text": [
      "\r",
      " 91%|█████████ | 320/352 [26:25<03:28,  6.50s/it]"
     ]
    },
    {
     "name": "stdout",
     "output_type": "stream",
     "text": [
      "systems Perhaps they are aware of the systems of bovicide but choose to remain tight-lipped.\n"
     ]
    },
    {
     "name": "stderr",
     "output_type": "stream",
     "text": [
      " 93%|█████████▎| 329/352 [27:08<01:55,  5.00s/it]"
     ]
    },
    {
     "name": "stdout",
     "output_type": "stream",
     "text": [
      "traffic He lost his driver's license because he exceeded the quota of traffic violations.\n"
     ]
    },
    {
     "name": "stderr",
     "output_type": "stream",
     "text": [
      "\r",
      " 94%|█████████▍| 330/352 [27:15<02:03,  5.62s/it]"
     ]
    },
    {
     "name": "stdout",
     "output_type": "stream",
     "text": [
      "transactions The mafia often plays the role of middleman in these situations, facilitating transactions between businessmen and corrupt government officials.\n"
     ]
    },
    {
     "name": "stderr",
     "output_type": "stream",
     "text": [
      " 95%|█████████▍| 334/352 [27:36<01:40,  5.56s/it]"
     ]
    },
    {
     "name": "stdout",
     "output_type": "stream",
     "text": [
      "ultrasound The ultrasound probe is used mainly for head scanning of newborn babies and young children.\n"
     ]
    },
    {
     "name": "stderr",
     "output_type": "stream",
     "text": [
      " 98%|█████████▊| 344/352 [28:21<00:37,  4.71s/it]"
     ]
    },
    {
     "name": "stdout",
     "output_type": "stream",
     "text": [
      "virtual reality Perhaps technologies such as virtual reality or holography will provide yet another dimension to what can be learned and shared.\n"
     ]
    },
    {
     "name": "stderr",
     "output_type": "stream",
     "text": [
      " 98%|█████████▊| 346/352 [28:32<00:30,  5.15s/it]"
     ]
    },
    {
     "name": "stdout",
     "output_type": "stream",
     "text": [
      "web pages Web pages that users bookmarked did not match the most-popular sites visited as a whole from the group.\n"
     ]
    },
    {
     "name": "stderr",
     "output_type": "stream",
     "text": [
      "\r",
      " 99%|█████████▊| 347/352 [28:39<00:27,  5.60s/it]"
     ]
    },
    {
     "name": "stdout",
     "output_type": "stream",
     "text": [
      "website The website is as I though a triumph of pretentious style over actual content.\n"
     ]
    },
    {
     "name": "stderr",
     "output_type": "stream",
     "text": [
      "100%|██████████| 352/352 [29:02<00:00,  4.95s/it]\n"
     ]
    }
   ],
   "source": [
    "tech_dict = {}\n",
    "for term in tqdm(tech_terms):\n",
    "    sentences = []\n",
    "    page = requests.get(\"https://www.wordhippo.com/what-is/sentences-with-the-word/{}.html\".format(term.replace(\" \",\"+\")))\n",
    "\n",
    "    soup = BeautifulSoup(page.content, 'html.parser')\n",
    "\n",
    "    for row in soup.find_all('tr',class_='exv2row1')+soup.find_all('tr',class_='exv2row2'):\n",
    "        sentence = row.text.strip()\n",
    "        sentences.append(sentence)\n",
    "    if len(sentences) >0:\n",
    "        print(term ,sentences[0])\n",
    "        tech_dict[term]=sentences"
   ]
  },
  {
   "cell_type": "code",
   "execution_count": 23,
   "metadata": {},
   "outputs": [
    {
     "name": "stderr",
     "output_type": "stream",
     "text": [
      "  0%|          | 1/651 [00:05<1:00:16,  5.56s/it]"
     ]
    },
    {
     "name": "stdout",
     "output_type": "stream",
     "text": [
      "Absolute advantage If absolute advantage rules, capitalism itself will redistribute income and wealth from rich countries to poor ones.\n"
     ]
    },
    {
     "name": "stderr",
     "output_type": "stream",
     "text": [
      "\r",
      "  0%|          | 2/651 [00:10<59:23,  5.49s/it]  "
     ]
    },
    {
     "name": "stdout",
     "output_type": "stream",
     "text": [
      "Adaptive expectations Adaptive expectations models them as a weighted average of what was expected one period earlier and the actual rate of inflation that most recently occurred.\n"
     ]
    },
    {
     "name": "stderr",
     "output_type": "stream",
     "text": [
      "\r",
      "  0%|          | 3/651 [00:16<58:06,  5.38s/it]"
     ]
    },
    {
     "name": "stdout",
     "output_type": "stream",
     "text": [
      "Adverse selection Group lending alleviates the problem of adverse selection as riskier individuals will have difficulty to find a group that will support them.\n"
     ]
    },
    {
     "name": "stderr",
     "output_type": "stream",
     "text": [
      "\r",
      "  1%|          | 4/651 [00:23<1:03:33,  5.89s/it]"
     ]
    },
    {
     "name": "stdout",
     "output_type": "stream",
     "text": [
      "Advertising Advertising copy shall be dignified, strictly truthful and representative of the art of music and its responsibility to the community.\n"
     ]
    },
    {
     "name": "stderr",
     "output_type": "stream",
     "text": [
      "  1%|          | 7/651 [00:40<1:05:30,  6.10s/it]"
     ]
    },
    {
     "name": "stdout",
     "output_type": "stream",
     "text": [
      "Agriculture They lend themselves to biodiverse agriculture as well as to agroforestry, a style of tree farming that promotes diversity.\n"
     ]
    },
    {
     "name": "stderr",
     "output_type": "stream",
     "text": [
      "\r",
      "  1%|          | 8/651 [00:45<1:00:45,  5.67s/it]"
     ]
    },
    {
     "name": "stdout",
     "output_type": "stream",
     "text": [
      "Aid In Western herbal medicine barberry root and gentian are used as bitter tonics to aid digestion.\n"
     ]
    },
    {
     "name": "stderr",
     "output_type": "stream",
     "text": [
      "\r",
      "  1%|▏         | 9/651 [00:49<55:35,  5.20s/it]  "
     ]
    },
    {
     "name": "stdout",
     "output_type": "stream",
     "text": [
      "Altruism Misguided though this might have been, my grandfather was motivated by altruism and a deep belief in human dignity.\n"
     ]
    },
    {
     "name": "stderr",
     "output_type": "stream",
     "text": [
      "\r",
      "  2%|▏         | 10/651 [00:54<55:51,  5.23s/it]"
     ]
    },
    {
     "name": "stdout",
     "output_type": "stream",
     "text": [
      "Amortisation It also ignores non-cash items such as depreciation of assets and the amortisation of acquisitions.\n"
     ]
    },
    {
     "name": "stderr",
     "output_type": "stream",
     "text": [
      "\r",
      "  2%|▏         | 11/651 [00:59<56:34,  5.30s/it]"
     ]
    },
    {
     "name": "stdout",
     "output_type": "stream",
     "text": [
      "Animal spirits The key is using rock-bottom rates to help shift executives' expectations in a more positive direction and revive animal spirits.\n"
     ]
    },
    {
     "name": "stderr",
     "output_type": "stream",
     "text": [
      "\r",
      "  2%|▏         | 12/651 [01:06<1:01:49,  5.80s/it]"
     ]
    },
    {
     "name": "stdout",
     "output_type": "stream",
     "text": [
      "Antitrust No matter, as one antitrust case fades another begins to move into the foreground.\n"
     ]
    },
    {
     "name": "stderr",
     "output_type": "stream",
     "text": [
      "\r",
      "  2%|▏         | 13/651 [01:15<1:09:06,  6.50s/it]"
     ]
    },
    {
     "name": "stdout",
     "output_type": "stream",
     "text": [
      "Appreciation You know those magic moments in your music appreciation history that you constantly look back on?\n"
     ]
    },
    {
     "name": "stderr",
     "output_type": "stream",
     "text": [
      "\r",
      "  2%|▏         | 14/651 [01:20<1:06:22,  6.25s/it]"
     ]
    },
    {
     "name": "stdout",
     "output_type": "stream",
     "text": [
      "Arbitrage The same lawyers told him to bring charges to a civil court and the sports court of arbitrage.\n"
     ]
    },
    {
     "name": "stderr",
     "output_type": "stream",
     "text": [
      "  3%|▎         | 17/651 [01:37<1:05:28,  6.20s/it]"
     ]
    },
    {
     "name": "stdout",
     "output_type": "stream",
     "text": [
      "Assets He also said that if his bail was not extended in the meantime he stood to lose the assets he had accumulated since his sequestration last year.\n"
     ]
    },
    {
     "name": "stderr",
     "output_type": "stream",
     "text": [
      "\r",
      "  3%|▎         | 18/651 [01:43<1:02:22,  5.91s/it]"
     ]
    },
    {
     "name": "stdout",
     "output_type": "stream",
     "text": [
      "Asymmetric information Several Nobel Prizes in Economics have been awarded for analyses of market failures due to asymmetric information.\n"
     ]
    },
    {
     "name": "stderr",
     "output_type": "stream",
     "text": [
      "  3%|▎         | 20/651 [01:54<1:00:27,  5.75s/it]"
     ]
    },
    {
     "name": "stdout",
     "output_type": "stream",
     "text": [
      "Auctions Local charity auctions almost always offer foursomes of golf at the best country clubs.\n"
     ]
    },
    {
     "name": "stderr",
     "output_type": "stream",
     "text": [
      "\r",
      "  3%|▎         | 21/651 [01:59<59:19,  5.65s/it]  "
     ]
    },
    {
     "name": "stdout",
     "output_type": "stream",
     "text": [
      "Austrian economics If you study Austrian economics, you will learn that a central tenet of the school is methodological individualism.\n"
     ]
    },
    {
     "name": "stderr",
     "output_type": "stream",
     "text": [
      "\r",
      "  3%|▎         | 22/651 [02:02<52:29,  5.01s/it]"
     ]
    },
    {
     "name": "stdout",
     "output_type": "stream",
     "text": [
      "Autarky Fast track may well be dead, but nobody should take that to mean that the U.S. is going to retreat into autarky.\n"
     ]
    },
    {
     "name": "stderr",
     "output_type": "stream",
     "text": [
      "\r",
      "  4%|▎         | 23/651 [02:12<1:08:07,  6.51s/it]"
     ]
    },
    {
     "name": "stdout",
     "output_type": "stream",
     "text": [
      "Average Average Americans may yet roar loud enough to take back the power from their corporate overlords.\n"
     ]
    },
    {
     "name": "stderr",
     "output_type": "stream",
     "text": [
      "\r",
      "  4%|▎         | 24/651 [02:18<1:04:49,  6.20s/it]"
     ]
    },
    {
     "name": "stdout",
     "output_type": "stream",
     "text": [
      "Backwardation Contrary to those teachings, the normal condition of the futures markets is one of contango, not backwardation.\n"
     ]
    },
    {
     "name": "stderr",
     "output_type": "stream",
     "text": [
      "\r",
      "  4%|▍         | 25/651 [02:24<1:04:03,  6.14s/it]"
     ]
    },
    {
     "name": "stdout",
     "output_type": "stream",
     "text": [
      "Balance of payments One thing that's very important now for Brazil is to improve its balance of payments.\n"
     ]
    },
    {
     "name": "stderr",
     "output_type": "stream",
     "text": [
      "\r",
      "  4%|▍         | 26/651 [02:29<1:01:21,  5.89s/it]"
     ]
    },
    {
     "name": "stdout",
     "output_type": "stream",
     "text": [
      "Balanced budget However, Treasury Secretary Paul O'Neill is a strong advocate of a balanced budget, which he fought for in previous Republican administrations.\n"
     ]
    },
    {
     "name": "stderr",
     "output_type": "stream",
     "text": [
      "\r",
      "  4%|▍         | 27/651 [02:36<1:03:49,  6.14s/it]"
     ]
    },
    {
     "name": "stdout",
     "output_type": "stream",
     "text": [
      "Bank The former banker who became a whistle-blower, triggering a massive investigation of the Swiss bank.\n"
     ]
    },
    {
     "name": "stderr",
     "output_type": "stream",
     "text": [
      "\r",
      "  4%|▍         | 28/651 [02:44<1:09:51,  6.73s/it]"
     ]
    },
    {
     "name": "stdout",
     "output_type": "stream",
     "text": [
      "Bankruptcy His Honour further concluded that Herstatt's bankruptcy did not revoke Chase's mandate to receive funds on its behalf.\n"
     ]
    },
    {
     "name": "stderr",
     "output_type": "stream",
     "text": [
      "  5%|▍         | 30/651 [02:54<1:01:48,  5.97s/it]"
     ]
    },
    {
     "name": "stdout",
     "output_type": "stream",
     "text": [
      "Barter Bell's accounts also reveal the prevalence of barter over cash transactions.\n"
     ]
    },
    {
     "name": "stderr",
     "output_type": "stream",
     "text": [
      "  5%|▍         | 32/651 [03:04<56:27,  5.47s/it]  "
     ]
    },
    {
     "name": "stdout",
     "output_type": "stream",
     "text": [
      "Basis point If she gets pregnant, the interest rate drops by one basis point for one year.\n"
     ]
    },
    {
     "name": "stderr",
     "output_type": "stream",
     "text": [
      "\r",
      "  5%|▌         | 33/651 [03:10<58:29,  5.68s/it]"
     ]
    },
    {
     "name": "stdout",
     "output_type": "stream",
     "text": [
      "Bear As the editor of the Silver Bear Cafe, I try to focus on the ramifications of world events.\n"
     ]
    },
    {
     "name": "stderr",
     "output_type": "stream",
     "text": [
      "  5%|▌         | 35/651 [03:20<53:49,  5.24s/it]"
     ]
    },
    {
     "name": "stdout",
     "output_type": "stream",
     "text": [
      "Beta The orbiting pair in Beta Persei consists of a star that is a younger version of our sun, along with a hotter companion.\n"
     ]
    },
    {
     "name": "stderr",
     "output_type": "stream",
     "text": [
      "  6%|▌         | 37/651 [03:32<57:03,  5.58s/it]"
     ]
    },
    {
     "name": "stdout",
     "output_type": "stream",
     "text": [
      "Black economy An added bonus may be a decrease in the level of activity of the black economy.\n"
     ]
    },
    {
     "name": "stderr",
     "output_type": "stream",
     "text": [
      "  6%|▌         | 39/651 [03:42<53:43,  5.27s/it]"
     ]
    },
    {
     "name": "stdout",
     "output_type": "stream",
     "text": [
      "Bonds He's also the greatest lead-off man of all-time, and probably the third-greatest leftfielder in history behind Ted Williams and Barry Bonds.\n"
     ]
    },
    {
     "name": "stderr",
     "output_type": "stream",
     "text": [
      "\r",
      "  6%|▌         | 40/651 [03:48<55:42,  5.47s/it]"
     ]
    },
    {
     "name": "stdout",
     "output_type": "stream",
     "text": [
      "Boom and bust Venture capital investments have slowed since the internet boom and bust in which many funders lost money.\n"
     ]
    },
    {
     "name": "stderr",
     "output_type": "stream",
     "text": [
      "  6%|▋         | 42/651 [03:55<46:22,  4.57s/it]"
     ]
    },
    {
     "name": "stdout",
     "output_type": "stream",
     "text": [
      "Brand Coun Brand says the noise is mainly caused by aircraft taking off from the airport.\n"
     ]
    },
    {
     "name": "stderr",
     "output_type": "stream",
     "text": [
      "\r",
      "  7%|▋         | 43/651 [04:01<49:11,  4.86s/it]"
     ]
    },
    {
     "name": "stdout",
     "output_type": "stream",
     "text": [
      "Bretton Woods The collapse of the Bretton Woods system in 1971 brought down with it the fragile European edifice.\n"
     ]
    },
    {
     "name": "stderr",
     "output_type": "stream",
     "text": [
      "\r",
      "  7%|▋         | 44/651 [04:08<56:52,  5.62s/it]"
     ]
    },
    {
     "name": "stdout",
     "output_type": "stream",
     "text": [
      "Bubble After the pension scheme was revalued in the wake of the dotcom bubble, that surplus turned to a deficit.\n"
     ]
    },
    {
     "name": "stderr",
     "output_type": "stream",
     "text": [
      "\r",
      "  7%|▋         | 45/651 [04:16<1:03:51,  6.32s/it]"
     ]
    },
    {
     "name": "stdout",
     "output_type": "stream",
     "text": [
      "Budget Neither our lease nor our budget will allow us to raze our buildings to put in showcase-perfect sustainable materials.\n"
     ]
    },
    {
     "name": "stderr",
     "output_type": "stream",
     "text": [
      "\r",
      "  7%|▋         | 46/651 [04:23<1:05:28,  6.49s/it]"
     ]
    },
    {
     "name": "stdout",
     "output_type": "stream",
     "text": [
      "Bull All 16 drivers have been selected through the Red Bull Driver Search Programme, which scouts out young talent from all corners of the globe.\n"
     ]
    },
    {
     "name": "stderr",
     "output_type": "stream",
     "text": [
      "  7%|▋         | 48/651 [04:34<1:00:25,  6.01s/it]"
     ]
    },
    {
     "name": "stdout",
     "output_type": "stream",
     "text": [
      "Business cycle Artificial credit expansion credit not funded by savings creates the business cycle by spawning capital malinvestment.\n"
     ]
    },
    {
     "name": "stderr",
     "output_type": "stream",
     "text": [
      "\r",
      "  8%|▊         | 49/651 [04:40<1:00:01,  5.98s/it]"
     ]
    },
    {
     "name": "stdout",
     "output_type": "stream",
     "text": [
      "Buyer's market The employment situation for journalists was very much a buyer's market, and power inside the newsrooms rested unambiguously with top management.\n"
     ]
    },
    {
     "name": "stderr",
     "output_type": "stream",
     "text": [
      "\r",
      "  8%|▊         | 50/651 [04:46<58:36,  5.85s/it]  "
     ]
    },
    {
     "name": "stdout",
     "output_type": "stream",
     "text": [
      "Cannibalise In recent months, the airline has been forced to cannibalise its existing fleet to provide spare parts.\n"
     ]
    },
    {
     "name": "stderr",
     "output_type": "stream",
     "text": [
      "\r",
      "  8%|▊         | 51/651 [04:53<1:04:25,  6.44s/it]"
     ]
    },
    {
     "name": "stdout",
     "output_type": "stream",
     "text": [
      "Capacity Producers from all over Northern Ireland put their fresh farm wares up for sale to a capacity crowd on Saturday mornings.\n"
     ]
    },
    {
     "name": "stderr",
     "output_type": "stream",
     "text": [
      "  8%|▊         | 51/651 [04:59<58:45,  5.88s/it]  \n"
     ]
    },
    {
     "ename": "KeyboardInterrupt",
     "evalue": "",
     "output_type": "error",
     "traceback": [
      "\u001b[0;31m---------------------------------------------------------------------------\u001b[0m",
      "\u001b[0;31mKeyboardInterrupt\u001b[0m                         Traceback (most recent call last)",
      "\u001b[0;32m<ipython-input-23-8491795cdfad>\u001b[0m in \u001b[0;36m<module>\u001b[0;34m\u001b[0m\n\u001b[1;32m      4\u001b[0m     \u001b[0mpage\u001b[0m \u001b[0;34m=\u001b[0m \u001b[0mrequests\u001b[0m\u001b[0;34m.\u001b[0m\u001b[0mget\u001b[0m\u001b[0;34m(\u001b[0m\u001b[0;34m\"https://www.wordhippo.com/what-is/sentences-with-the-word/{}.html\"\u001b[0m\u001b[0;34m.\u001b[0m\u001b[0mformat\u001b[0m\u001b[0;34m(\u001b[0m\u001b[0mterm\u001b[0m\u001b[0;34m.\u001b[0m\u001b[0mreplace\u001b[0m\u001b[0;34m(\u001b[0m\u001b[0;34m\" \"\u001b[0m\u001b[0;34m,\u001b[0m\u001b[0;34m\"+\"\u001b[0m\u001b[0;34m)\u001b[0m\u001b[0;34m)\u001b[0m\u001b[0;34m)\u001b[0m\u001b[0;34m\u001b[0m\u001b[0;34m\u001b[0m\u001b[0m\n\u001b[1;32m      5\u001b[0m \u001b[0;34m\u001b[0m\u001b[0m\n\u001b[0;32m----> 6\u001b[0;31m     \u001b[0msoup\u001b[0m \u001b[0;34m=\u001b[0m \u001b[0mBeautifulSoup\u001b[0m\u001b[0;34m(\u001b[0m\u001b[0mpage\u001b[0m\u001b[0;34m.\u001b[0m\u001b[0mcontent\u001b[0m\u001b[0;34m,\u001b[0m \u001b[0;34m'html.parser'\u001b[0m\u001b[0;34m)\u001b[0m\u001b[0;34m\u001b[0m\u001b[0;34m\u001b[0m\u001b[0m\n\u001b[0m\u001b[1;32m      7\u001b[0m \u001b[0;34m\u001b[0m\u001b[0m\n\u001b[1;32m      8\u001b[0m     \u001b[0;32mfor\u001b[0m \u001b[0mrow\u001b[0m \u001b[0;32min\u001b[0m \u001b[0msoup\u001b[0m\u001b[0;34m.\u001b[0m\u001b[0mfind_all\u001b[0m\u001b[0;34m(\u001b[0m\u001b[0;34m'tr'\u001b[0m\u001b[0;34m,\u001b[0m\u001b[0mclass_\u001b[0m\u001b[0;34m=\u001b[0m\u001b[0;34m'exv2row1'\u001b[0m\u001b[0;34m)\u001b[0m\u001b[0;34m+\u001b[0m\u001b[0msoup\u001b[0m\u001b[0;34m.\u001b[0m\u001b[0mfind_all\u001b[0m\u001b[0;34m(\u001b[0m\u001b[0;34m'tr'\u001b[0m\u001b[0;34m,\u001b[0m\u001b[0mclass_\u001b[0m\u001b[0;34m=\u001b[0m\u001b[0;34m'exv2row2'\u001b[0m\u001b[0;34m)\u001b[0m\u001b[0;34m:\u001b[0m\u001b[0;34m\u001b[0m\u001b[0;34m\u001b[0m\u001b[0m\n",
      "\u001b[0;32m~/.local/lib/python3.6/site-packages/bs4/__init__.py\u001b[0m in \u001b[0;36m__init__\u001b[0;34m(self, markup, features, builder, parse_only, from_encoding, exclude_encodings, element_classes, **kwargs)\u001b[0m\n\u001b[1;32m    343\u001b[0m          \u001b[0mself\u001b[0m\u001b[0;34m.\u001b[0m\u001b[0mcontains_replacement_characters\u001b[0m\u001b[0;34m)\u001b[0m \u001b[0;32min\u001b[0m \u001b[0;34m(\u001b[0m\u001b[0;34m\u001b[0m\u001b[0;34m\u001b[0m\u001b[0m\n\u001b[1;32m    344\u001b[0m              self.builder.prepare_markup(\n\u001b[0;32m--> 345\u001b[0;31m                  markup, from_encoding, exclude_encodings=exclude_encodings)):\n\u001b[0m\u001b[1;32m    346\u001b[0m             \u001b[0mself\u001b[0m\u001b[0;34m.\u001b[0m\u001b[0mreset\u001b[0m\u001b[0;34m(\u001b[0m\u001b[0;34m)\u001b[0m\u001b[0;34m\u001b[0m\u001b[0;34m\u001b[0m\u001b[0m\n\u001b[1;32m    347\u001b[0m             \u001b[0;32mtry\u001b[0m\u001b[0;34m:\u001b[0m\u001b[0;34m\u001b[0m\u001b[0;34m\u001b[0m\u001b[0m\n",
      "\u001b[0;32m~/.local/lib/python3.6/site-packages/bs4/builder/_htmlparser.py\u001b[0m in \u001b[0;36mprepare_markup\u001b[0;34m(self, markup, user_specified_encoding, document_declared_encoding, exclude_encodings)\u001b[0m\n\u001b[1;32m    362\u001b[0m         \u001b[0mtry_encodings\u001b[0m \u001b[0;34m=\u001b[0m \u001b[0;34m[\u001b[0m\u001b[0muser_specified_encoding\u001b[0m\u001b[0;34m,\u001b[0m \u001b[0mdocument_declared_encoding\u001b[0m\u001b[0;34m]\u001b[0m\u001b[0;34m\u001b[0m\u001b[0;34m\u001b[0m\u001b[0m\n\u001b[1;32m    363\u001b[0m         dammit = UnicodeDammit(markup, try_encodings, is_html=True,\n\u001b[0;32m--> 364\u001b[0;31m                                exclude_encodings=exclude_encodings)\n\u001b[0m\u001b[1;32m    365\u001b[0m         yield (dammit.markup, dammit.original_encoding,\n\u001b[1;32m    366\u001b[0m                \u001b[0mdammit\u001b[0m\u001b[0;34m.\u001b[0m\u001b[0mdeclared_html_encoding\u001b[0m\u001b[0;34m,\u001b[0m\u001b[0;34m\u001b[0m\u001b[0;34m\u001b[0m\u001b[0m\n",
      "\u001b[0;32m~/.local/lib/python3.6/site-packages/bs4/dammit.py\u001b[0m in \u001b[0;36m__init__\u001b[0;34m(self, markup, override_encodings, smart_quotes_to, is_html, exclude_encodings)\u001b[0m\n\u001b[1;32m    443\u001b[0m \u001b[0;34m\u001b[0m\u001b[0m\n\u001b[1;32m    444\u001b[0m         \u001b[0mu\u001b[0m \u001b[0;34m=\u001b[0m \u001b[0;32mNone\u001b[0m\u001b[0;34m\u001b[0m\u001b[0;34m\u001b[0m\u001b[0m\n\u001b[0;32m--> 445\u001b[0;31m         \u001b[0;32mfor\u001b[0m \u001b[0mencoding\u001b[0m \u001b[0;32min\u001b[0m \u001b[0mself\u001b[0m\u001b[0;34m.\u001b[0m\u001b[0mdetector\u001b[0m\u001b[0;34m.\u001b[0m\u001b[0mencodings\u001b[0m\u001b[0;34m:\u001b[0m\u001b[0;34m\u001b[0m\u001b[0;34m\u001b[0m\u001b[0m\n\u001b[0m\u001b[1;32m    446\u001b[0m             \u001b[0mmarkup\u001b[0m \u001b[0;34m=\u001b[0m \u001b[0mself\u001b[0m\u001b[0;34m.\u001b[0m\u001b[0mdetector\u001b[0m\u001b[0;34m.\u001b[0m\u001b[0mmarkup\u001b[0m\u001b[0;34m\u001b[0m\u001b[0;34m\u001b[0m\u001b[0m\n\u001b[1;32m    447\u001b[0m             \u001b[0mu\u001b[0m \u001b[0;34m=\u001b[0m \u001b[0mself\u001b[0m\u001b[0;34m.\u001b[0m\u001b[0m_convert_from\u001b[0m\u001b[0;34m(\u001b[0m\u001b[0mencoding\u001b[0m\u001b[0;34m)\u001b[0m\u001b[0;34m\u001b[0m\u001b[0;34m\u001b[0m\u001b[0m\n",
      "\u001b[0;32m~/.local/lib/python3.6/site-packages/bs4/dammit.py\u001b[0m in \u001b[0;36mencodings\u001b[0;34m(self)\u001b[0m\n\u001b[1;32m    307\u001b[0m         \u001b[0;31m# encoding.\u001b[0m\u001b[0;34m\u001b[0m\u001b[0;34m\u001b[0m\u001b[0;34m\u001b[0m\u001b[0m\n\u001b[1;32m    308\u001b[0m         \u001b[0;32mif\u001b[0m \u001b[0mself\u001b[0m\u001b[0;34m.\u001b[0m\u001b[0mchardet_encoding\u001b[0m \u001b[0;32mis\u001b[0m \u001b[0;32mNone\u001b[0m\u001b[0;34m:\u001b[0m\u001b[0;34m\u001b[0m\u001b[0;34m\u001b[0m\u001b[0m\n\u001b[0;32m--> 309\u001b[0;31m             \u001b[0mself\u001b[0m\u001b[0;34m.\u001b[0m\u001b[0mchardet_encoding\u001b[0m \u001b[0;34m=\u001b[0m \u001b[0mchardet_dammit\u001b[0m\u001b[0;34m(\u001b[0m\u001b[0mself\u001b[0m\u001b[0;34m.\u001b[0m\u001b[0mmarkup\u001b[0m\u001b[0;34m)\u001b[0m\u001b[0;34m\u001b[0m\u001b[0;34m\u001b[0m\u001b[0m\n\u001b[0m\u001b[1;32m    310\u001b[0m         \u001b[0;32mif\u001b[0m \u001b[0mself\u001b[0m\u001b[0;34m.\u001b[0m\u001b[0m_usable\u001b[0m\u001b[0;34m(\u001b[0m\u001b[0mself\u001b[0m\u001b[0;34m.\u001b[0m\u001b[0mchardet_encoding\u001b[0m\u001b[0;34m,\u001b[0m \u001b[0mtried\u001b[0m\u001b[0;34m)\u001b[0m\u001b[0;34m:\u001b[0m\u001b[0;34m\u001b[0m\u001b[0;34m\u001b[0m\u001b[0m\n\u001b[1;32m    311\u001b[0m             \u001b[0;32myield\u001b[0m \u001b[0mself\u001b[0m\u001b[0;34m.\u001b[0m\u001b[0mchardet_encoding\u001b[0m\u001b[0;34m\u001b[0m\u001b[0;34m\u001b[0m\u001b[0m\n",
      "\u001b[0;32m~/.local/lib/python3.6/site-packages/bs4/dammit.py\u001b[0m in \u001b[0;36mchardet_dammit\u001b[0;34m(s)\u001b[0m\n\u001b[1;32m     35\u001b[0m             \u001b[0;32mif\u001b[0m \u001b[0misinstance\u001b[0m\u001b[0;34m(\u001b[0m\u001b[0ms\u001b[0m\u001b[0;34m,\u001b[0m \u001b[0mstr\u001b[0m\u001b[0;34m)\u001b[0m\u001b[0;34m:\u001b[0m\u001b[0;34m\u001b[0m\u001b[0;34m\u001b[0m\u001b[0m\n\u001b[1;32m     36\u001b[0m                 \u001b[0;32mreturn\u001b[0m \u001b[0;32mNone\u001b[0m\u001b[0;34m\u001b[0m\u001b[0;34m\u001b[0m\u001b[0m\n\u001b[0;32m---> 37\u001b[0;31m             \u001b[0;32mreturn\u001b[0m \u001b[0mchardet\u001b[0m\u001b[0;34m.\u001b[0m\u001b[0mdetect\u001b[0m\u001b[0;34m(\u001b[0m\u001b[0ms\u001b[0m\u001b[0;34m)\u001b[0m\u001b[0;34m[\u001b[0m\u001b[0;34m'encoding'\u001b[0m\u001b[0;34m]\u001b[0m\u001b[0;34m\u001b[0m\u001b[0;34m\u001b[0m\u001b[0m\n\u001b[0m\u001b[1;32m     38\u001b[0m         \u001b[0;31m#import chardet.constants\u001b[0m\u001b[0;34m\u001b[0m\u001b[0;34m\u001b[0m\u001b[0;34m\u001b[0m\u001b[0m\n\u001b[1;32m     39\u001b[0m         \u001b[0;31m#chardet.constants._debug = 1\u001b[0m\u001b[0;34m\u001b[0m\u001b[0;34m\u001b[0m\u001b[0;34m\u001b[0m\u001b[0m\n",
      "\u001b[0;32m~/.local/lib/python3.6/site-packages/chardet/__init__.py\u001b[0m in \u001b[0;36mdetect\u001b[0;34m(byte_str)\u001b[0m\n\u001b[1;32m     36\u001b[0m             \u001b[0mbyte_str\u001b[0m \u001b[0;34m=\u001b[0m \u001b[0mbytearray\u001b[0m\u001b[0;34m(\u001b[0m\u001b[0mbyte_str\u001b[0m\u001b[0;34m)\u001b[0m\u001b[0;34m\u001b[0m\u001b[0;34m\u001b[0m\u001b[0m\n\u001b[1;32m     37\u001b[0m     \u001b[0mdetector\u001b[0m \u001b[0;34m=\u001b[0m \u001b[0mUniversalDetector\u001b[0m\u001b[0;34m(\u001b[0m\u001b[0;34m)\u001b[0m\u001b[0;34m\u001b[0m\u001b[0;34m\u001b[0m\u001b[0m\n\u001b[0;32m---> 38\u001b[0;31m     \u001b[0mdetector\u001b[0m\u001b[0;34m.\u001b[0m\u001b[0mfeed\u001b[0m\u001b[0;34m(\u001b[0m\u001b[0mbyte_str\u001b[0m\u001b[0;34m)\u001b[0m\u001b[0;34m\u001b[0m\u001b[0;34m\u001b[0m\u001b[0m\n\u001b[0m\u001b[1;32m     39\u001b[0m     \u001b[0;32mreturn\u001b[0m \u001b[0mdetector\u001b[0m\u001b[0;34m.\u001b[0m\u001b[0mclose\u001b[0m\u001b[0;34m(\u001b[0m\u001b[0;34m)\u001b[0m\u001b[0;34m\u001b[0m\u001b[0;34m\u001b[0m\u001b[0m\n",
      "\u001b[0;32m~/.local/lib/python3.6/site-packages/chardet/universaldetector.py\u001b[0m in \u001b[0;36mfeed\u001b[0;34m(self, byte_str)\u001b[0m\n\u001b[1;32m    209\u001b[0m                 \u001b[0mself\u001b[0m\u001b[0;34m.\u001b[0m\u001b[0m_charset_probers\u001b[0m\u001b[0;34m.\u001b[0m\u001b[0mappend\u001b[0m\u001b[0;34m(\u001b[0m\u001b[0mLatin1Prober\u001b[0m\u001b[0;34m(\u001b[0m\u001b[0;34m)\u001b[0m\u001b[0;34m)\u001b[0m\u001b[0;34m\u001b[0m\u001b[0;34m\u001b[0m\u001b[0m\n\u001b[1;32m    210\u001b[0m             \u001b[0;32mfor\u001b[0m \u001b[0mprober\u001b[0m \u001b[0;32min\u001b[0m \u001b[0mself\u001b[0m\u001b[0;34m.\u001b[0m\u001b[0m_charset_probers\u001b[0m\u001b[0;34m:\u001b[0m\u001b[0;34m\u001b[0m\u001b[0;34m\u001b[0m\u001b[0m\n\u001b[0;32m--> 211\u001b[0;31m                 \u001b[0;32mif\u001b[0m \u001b[0mprober\u001b[0m\u001b[0;34m.\u001b[0m\u001b[0mfeed\u001b[0m\u001b[0;34m(\u001b[0m\u001b[0mbyte_str\u001b[0m\u001b[0;34m)\u001b[0m \u001b[0;34m==\u001b[0m \u001b[0mProbingState\u001b[0m\u001b[0;34m.\u001b[0m\u001b[0mFOUND_IT\u001b[0m\u001b[0;34m:\u001b[0m\u001b[0;34m\u001b[0m\u001b[0;34m\u001b[0m\u001b[0m\n\u001b[0m\u001b[1;32m    212\u001b[0m                     self.result = {'encoding': prober.charset_name,\n\u001b[1;32m    213\u001b[0m                                    \u001b[0;34m'confidence'\u001b[0m\u001b[0;34m:\u001b[0m \u001b[0mprober\u001b[0m\u001b[0;34m.\u001b[0m\u001b[0mget_confidence\u001b[0m\u001b[0;34m(\u001b[0m\u001b[0;34m)\u001b[0m\u001b[0;34m,\u001b[0m\u001b[0;34m\u001b[0m\u001b[0;34m\u001b[0m\u001b[0m\n",
      "\u001b[0;32m~/.local/lib/python3.6/site-packages/chardet/charsetgroupprober.py\u001b[0m in \u001b[0;36mfeed\u001b[0;34m(self, byte_str)\u001b[0m\n\u001b[1;32m     69\u001b[0m             \u001b[0;32mif\u001b[0m \u001b[0;32mnot\u001b[0m \u001b[0mprober\u001b[0m\u001b[0;34m.\u001b[0m\u001b[0mactive\u001b[0m\u001b[0;34m:\u001b[0m\u001b[0;34m\u001b[0m\u001b[0;34m\u001b[0m\u001b[0m\n\u001b[1;32m     70\u001b[0m                 \u001b[0;32mcontinue\u001b[0m\u001b[0;34m\u001b[0m\u001b[0;34m\u001b[0m\u001b[0m\n\u001b[0;32m---> 71\u001b[0;31m             \u001b[0mstate\u001b[0m \u001b[0;34m=\u001b[0m \u001b[0mprober\u001b[0m\u001b[0;34m.\u001b[0m\u001b[0mfeed\u001b[0m\u001b[0;34m(\u001b[0m\u001b[0mbyte_str\u001b[0m\u001b[0;34m)\u001b[0m\u001b[0;34m\u001b[0m\u001b[0;34m\u001b[0m\u001b[0m\n\u001b[0m\u001b[1;32m     72\u001b[0m             \u001b[0;32mif\u001b[0m \u001b[0;32mnot\u001b[0m \u001b[0mstate\u001b[0m\u001b[0;34m:\u001b[0m\u001b[0;34m\u001b[0m\u001b[0;34m\u001b[0m\u001b[0m\n\u001b[1;32m     73\u001b[0m                 \u001b[0;32mcontinue\u001b[0m\u001b[0;34m\u001b[0m\u001b[0;34m\u001b[0m\u001b[0m\n",
      "\u001b[0;32m~/.local/lib/python3.6/site-packages/chardet/mbcharsetprober.py\u001b[0m in \u001b[0;36mfeed\u001b[0;34m(self, byte_str)\u001b[0m\n\u001b[1;32m     61\u001b[0m     \u001b[0;32mdef\u001b[0m \u001b[0mfeed\u001b[0m\u001b[0;34m(\u001b[0m\u001b[0mself\u001b[0m\u001b[0;34m,\u001b[0m \u001b[0mbyte_str\u001b[0m\u001b[0;34m)\u001b[0m\u001b[0;34m:\u001b[0m\u001b[0;34m\u001b[0m\u001b[0;34m\u001b[0m\u001b[0m\n\u001b[1;32m     62\u001b[0m         \u001b[0;32mfor\u001b[0m \u001b[0mi\u001b[0m \u001b[0;32min\u001b[0m \u001b[0mrange\u001b[0m\u001b[0;34m(\u001b[0m\u001b[0mlen\u001b[0m\u001b[0;34m(\u001b[0m\u001b[0mbyte_str\u001b[0m\u001b[0;34m)\u001b[0m\u001b[0;34m)\u001b[0m\u001b[0;34m:\u001b[0m\u001b[0;34m\u001b[0m\u001b[0;34m\u001b[0m\u001b[0m\n\u001b[0;32m---> 63\u001b[0;31m             \u001b[0mcoding_state\u001b[0m \u001b[0;34m=\u001b[0m \u001b[0mself\u001b[0m\u001b[0;34m.\u001b[0m\u001b[0mcoding_sm\u001b[0m\u001b[0;34m.\u001b[0m\u001b[0mnext_state\u001b[0m\u001b[0;34m(\u001b[0m\u001b[0mbyte_str\u001b[0m\u001b[0;34m[\u001b[0m\u001b[0mi\u001b[0m\u001b[0;34m]\u001b[0m\u001b[0;34m)\u001b[0m\u001b[0;34m\u001b[0m\u001b[0;34m\u001b[0m\u001b[0m\n\u001b[0m\u001b[1;32m     64\u001b[0m             \u001b[0;32mif\u001b[0m \u001b[0mcoding_state\u001b[0m \u001b[0;34m==\u001b[0m \u001b[0mMachineState\u001b[0m\u001b[0;34m.\u001b[0m\u001b[0mERROR\u001b[0m\u001b[0;34m:\u001b[0m\u001b[0;34m\u001b[0m\u001b[0;34m\u001b[0m\u001b[0m\n\u001b[1;32m     65\u001b[0m                 self.logger.debug('%s %s prober hit error at byte %s',\n",
      "\u001b[0;31mKeyboardInterrupt\u001b[0m: "
     ]
    }
   ],
   "source": [
    "eco_dict = {}\n",
    "for term in tqdm(eco_terms):\n",
    "    sentences = []\n",
    "    page = requests.get(\"https://www.wordhippo.com/what-is/sentences-with-the-word/{}.html\".format(term.replace(\" \",\"+\")))\n",
    "\n",
    "    soup = BeautifulSoup(page.content, 'html.parser')\n",
    "\n",
    "    for row in soup.find_all('tr',class_='exv2row1')+soup.find_all('tr',class_='exv2row2'):\n",
    "        sentence = row.text.strip()\n",
    "        sentences.append(sentence)\n",
    "    if len(sentences) >0:\n",
    "        print(term ,sentences[0])\n",
    "        eco_dict[term]=sentences"
   ]
  },
  {
   "cell_type": "code",
   "execution_count": 26,
   "metadata": {},
   "outputs": [],
   "source": [
    "with open('tech_sentences.json', 'w') as fp:\n",
    "    json.dump(tech_dict, fp)"
   ]
  },
  {
   "cell_type": "code",
   "execution_count": 55,
   "metadata": {},
   "outputs": [],
   "source": [
    "data = json.load(open('c4istar_technologies_sentences.txt'))"
   ]
  },
  {
   "cell_type": "code",
   "execution_count": 56,
   "metadata": {},
   "outputs": [
    {
     "data": {
      "text/plain": [
       "812"
      ]
     },
     "execution_count": 56,
     "metadata": {},
     "output_type": "execute_result"
    }
   ],
   "source": [
    "len([i for i in data if len(data[i])==0])"
   ]
  },
  {
   "cell_type": "code",
   "execution_count": 52,
   "metadata": {},
   "outputs": [],
   "source": [
    "miss_terms =[\n",
    "    \"active component\",\n",
    "    \"advanced manufacturing\",\n",
    "    \"air defence system\",\n",
    "    \"air system\",\n",
    "    \"aircraft systems\",\n",
    "    \"alert system\",\n",
    "    \"allocation system\",\n",
    "    \"android devices\",\n",
    "    \"android operating system\",\n",
    "    \"anomaly detection\",\n",
    "    \"applied sciences\",\n",
    "    \"area network\",\n",
    "    \"array technology\",\n",
    "    \"automation systems\",\n",
    "    \"autonomous systems\",\n",
    "    \"avionics systems\",\n",
    "    \"battery technologies\",\n",
    "    \"biometric systems\",\n",
    "    \"booking system\",\n",
    "    \"broadcast system\",\n",
    "    \"camera system\",\n",
    "    \"capture device\",\n",
    "    \"cellular networks\",\n",
    "    \"cellular systems\",\n",
    "    \"centralized database\",\n",
    "    \"client computer\",\n",
    "    \"collection system\",\n",
    "    \"combat management system\",\n",
    "    \"communications network\",\n",
    "    \"communications system\",\n",
    "    \"compact sensor\",\n",
    "    \"computer operating systems\",\n",
    "    \"content management\",\n",
    "    \"control computer\",\n",
    "    \n",
    "    \n",
    "]"
   ]
  },
  {
   "cell_type": "code",
   "execution_count": 57,
   "metadata": {
    "scrolled": true
   },
   "outputs": [
    {
     "name": "stderr",
     "output_type": "stream",
     "text": [
      "\r",
      "  0%|          | 0/1040 [00:00<?, ?it/s]"
     ]
    },
    {
     "name": "stdout",
     "output_type": "stream",
     "text": [
      "multiple network 200\n"
     ]
    },
    {
     "name": "stderr",
     "output_type": "stream",
     "text": [
      "\r",
      "  0%|          | 1/1040 [00:08<2:23:23,  8.28s/it]"
     ]
    },
    {
     "name": "stdout",
     "output_type": "stream",
     "text": [
      "cognitive radio 200\n"
     ]
    },
    {
     "name": "stderr",
     "output_type": "stream",
     "text": [
      "\r",
      "  0%|          | 2/1040 [00:15<2:18:31,  8.01s/it]"
     ]
    },
    {
     "name": "stdout",
     "output_type": "stream",
     "text": [
      "hop communication system 200\n"
     ]
    },
    {
     "name": "stderr",
     "output_type": "stream",
     "text": [
      "\r",
      "  0%|          | 4/1040 [00:22<1:55:26,  6.69s/it]"
     ]
    },
    {
     "name": "stdout",
     "output_type": "stream",
     "text": [
      "cots devices 200\n"
     ]
    },
    {
     "name": "stderr",
     "output_type": "stream",
     "text": [
      "\r",
      "  0%|          | 5/1040 [00:30<1:58:20,  6.86s/it]"
     ]
    },
    {
     "name": "stdout",
     "output_type": "stream",
     "text": [
      "offshore bulk fuel system 200\n"
     ]
    },
    {
     "name": "stderr",
     "output_type": "stream",
     "text": [
      "\r",
      "  1%|          | 6/1040 [00:38<2:03:39,  7.18s/it]"
     ]
    },
    {
     "name": "stdout",
     "output_type": "stream",
     "text": [
      "automated computer 200\n"
     ]
    },
    {
     "name": "stderr",
     "output_type": "stream",
     "text": [
      "\r",
      "  1%|          | 7/1040 [00:45<2:06:06,  7.32s/it]"
     ]
    },
    {
     "name": "stdout",
     "output_type": "stream",
     "text": [
      "fusion information networks 200\n"
     ]
    },
    {
     "name": "stderr",
     "output_type": "stream",
     "text": [
      "\r",
      "  1%|          | 8/1040 [00:53<2:10:11,  7.57s/it]"
     ]
    },
    {
     "name": "stdout",
     "output_type": "stream",
     "text": [
      "docking system 200\n"
     ]
    },
    {
     "name": "stderr",
     "output_type": "stream",
     "text": [
      "\r",
      "  1%|          | 9/1040 [01:01<2:08:23,  7.47s/it]"
     ]
    },
    {
     "name": "stdout",
     "output_type": "stream",
     "text": [
      "neutralization system 200\n"
     ]
    },
    {
     "name": "stderr",
     "output_type": "stream",
     "text": [
      "\r",
      "  1%|          | 10/1040 [01:08<2:10:12,  7.58s/it]"
     ]
    },
    {
     "name": "stdout",
     "output_type": "stream",
     "text": [
      "stovepipe systems 200\n"
     ]
    },
    {
     "name": "stderr",
     "output_type": "stream",
     "text": [
      "\r",
      "  1%|          | 11/1040 [01:16<2:08:50,  7.51s/it]"
     ]
    },
    {
     "name": "stdout",
     "output_type": "stream",
     "text": [
      "meteorological system 200\n"
     ]
    },
    {
     "name": "stderr",
     "output_type": "stream",
     "text": [
      "\r",
      "  1%|          | 12/1040 [01:23<2:07:54,  7.47s/it]"
     ]
    },
    {
     "name": "stdout",
     "output_type": "stream",
     "text": [
      "battle management core system 200\n"
     ]
    },
    {
     "name": "stderr",
     "output_type": "stream",
     "text": [
      "\r",
      "  1%|▏         | 14/1040 [01:31<1:49:21,  6.40s/it]"
     ]
    },
    {
     "name": "stdout",
     "output_type": "stream",
     "text": [
      "antijamming system 200\n"
     ]
    },
    {
     "name": "stderr",
     "output_type": "stream",
     "text": [
      "\r",
      "  1%|▏         | 15/1040 [01:39<1:58:37,  6.94s/it]"
     ]
    },
    {
     "name": "stdout",
     "output_type": "stream",
     "text": [
      "mobile user objective system 200\n"
     ]
    },
    {
     "name": "stderr",
     "output_type": "stream",
     "text": [
      "\r",
      "  2%|▏         | 16/1040 [01:47<2:00:51,  7.08s/it]"
     ]
    },
    {
     "name": "stdout",
     "output_type": "stream",
     "text": [
      "maritime surveillance system 200\n"
     ]
    },
    {
     "name": "stderr",
     "output_type": "stream",
     "text": [
      "\r",
      "  2%|▏         | 18/1040 [01:54<1:44:12,  6.12s/it]"
     ]
    },
    {
     "name": "stdout",
     "output_type": "stream",
     "text": [
      "radio communications network 200\n"
     ]
    },
    {
     "name": "stderr",
     "output_type": "stream",
     "text": [
      "\r",
      "  2%|▏         | 20/1040 [02:02<1:32:07,  5.42s/it]"
     ]
    },
    {
     "name": "stdout",
     "output_type": "stream",
     "text": [
      "world geodetic system 200\n"
     ]
    },
    {
     "name": "stderr",
     "output_type": "stream",
     "text": [
      "\r",
      "  2%|▏         | 21/1040 [02:10<1:43:37,  6.10s/it]"
     ]
    },
    {
     "name": "stdout",
     "output_type": "stream",
     "text": [
      "airborne radio system 200\n"
     ]
    },
    {
     "name": "stderr",
     "output_type": "stream",
     "text": [
      "\r",
      "  2%|▏         | 22/1040 [02:17<1:49:48,  6.47s/it]"
     ]
    },
    {
     "name": "stdout",
     "output_type": "stream",
     "text": [
      "ground robot system 200\n"
     ]
    },
    {
     "name": "stderr",
     "output_type": "stream",
     "text": [
      "\r",
      "  2%|▏         | 23/1040 [02:24<1:53:20,  6.69s/it]"
     ]
    },
    {
     "name": "stdout",
     "output_type": "stream",
     "text": [
      "reference model technology computer 200\n"
     ]
    },
    {
     "name": "stderr",
     "output_type": "stream",
     "text": [
      "\r",
      "  2%|▏         | 24/1040 [02:32<1:58:51,  7.02s/it]"
     ]
    },
    {
     "name": "stdout",
     "output_type": "stream",
     "text": [
      "incident command system 200\n"
     ]
    },
    {
     "name": "stderr",
     "output_type": "stream",
     "text": [
      "\r",
      "  2%|▏         | 25/1040 [02:39<1:57:27,  6.94s/it]"
     ]
    },
    {
     "name": "stdout",
     "output_type": "stream",
     "text": [
      "aerial distribution system 200\n"
     ]
    },
    {
     "name": "stderr",
     "output_type": "stream",
     "text": [
      "\r",
      "  3%|▎         | 27/1040 [02:46<1:39:55,  5.92s/it]"
     ]
    },
    {
     "name": "stdout",
     "output_type": "stream",
     "text": [
      "high-performance computing 200\n"
     ]
    },
    {
     "name": "stderr",
     "output_type": "stream",
     "text": [
      "\r",
      "  3%|▎         | 28/1040 [02:54<1:50:11,  6.53s/it]"
     ]
    },
    {
     "name": "stdout",
     "output_type": "stream",
     "text": [
      "global combat support system 200\n"
     ]
    },
    {
     "name": "stderr",
     "output_type": "stream",
     "text": [
      "\r",
      "  3%|▎         | 32/1040 [03:01<1:25:59,  5.12s/it]"
     ]
    },
    {
     "name": "stdout",
     "output_type": "stream",
     "text": [
      "military 4g mobile networks 200\n"
     ]
    },
    {
     "name": "stderr",
     "output_type": "stream",
     "text": [
      "\r",
      "  3%|▎         | 34/1040 [03:08<1:17:33,  4.63s/it]"
     ]
    },
    {
     "name": "stdout",
     "output_type": "stream",
     "text": [
      "advanced defense systems 200\n"
     ]
    },
    {
     "name": "stderr",
     "output_type": "stream",
     "text": [
      "\r",
      "  3%|▎         | 36/1040 [03:15<1:12:43,  4.35s/it]"
     ]
    },
    {
     "name": "stdout",
     "output_type": "stream",
     "text": [
      "reel system 200\n"
     ]
    },
    {
     "name": "stderr",
     "output_type": "stream",
     "text": [
      "\r",
      "  4%|▎         | 37/1040 [03:23<1:29:41,  5.37s/it]"
     ]
    },
    {
     "name": "stdout",
     "output_type": "stream",
     "text": [
      "storage system 200\n"
     ]
    },
    {
     "name": "stderr",
     "output_type": "stream",
     "text": [
      "\r",
      "  4%|▎         | 38/1040 [03:30<1:40:04,  5.99s/it]"
     ]
    },
    {
     "name": "stdout",
     "output_type": "stream",
     "text": [
      "autonomous combat systems 200\n"
     ]
    },
    {
     "name": "stderr",
     "output_type": "stream",
     "text": [
      "\r",
      "  4%|▍         | 40/1040 [03:38<1:28:44,  5.32s/it]"
     ]
    },
    {
     "name": "stdout",
     "output_type": "stream",
     "text": [
      "speech technology 200\n"
     ]
    },
    {
     "name": "stderr",
     "output_type": "stream",
     "text": [
      "\r",
      "  4%|▍         | 41/1040 [03:46<1:39:40,  5.99s/it]"
     ]
    },
    {
     "name": "stdout",
     "output_type": "stream",
     "text": [
      "fifth generation systems 200\n"
     ]
    },
    {
     "name": "stderr",
     "output_type": "stream",
     "text": [
      "\r",
      "  4%|▍         | 42/1040 [03:53<1:45:53,  6.37s/it]"
     ]
    },
    {
     "name": "stdout",
     "output_type": "stream",
     "text": [
      "water combat systems 200\n"
     ]
    },
    {
     "name": "stderr",
     "output_type": "stream",
     "text": [
      "\r",
      "  4%|▍         | 44/1040 [04:00<1:32:08,  5.55s/it]"
     ]
    },
    {
     "name": "stdout",
     "output_type": "stream",
     "text": [
      "nosql 200\n"
     ]
    },
    {
     "name": "stderr",
     "output_type": "stream",
     "text": [
      "\r",
      "  4%|▍         | 45/1040 [04:08<1:41:55,  6.15s/it]"
     ]
    },
    {
     "name": "stdout",
     "output_type": "stream",
     "text": [
      "manned weapon system 200\n"
     ]
    },
    {
     "name": "stderr",
     "output_type": "stream",
     "text": [
      "\r",
      "  4%|▍         | 46/1040 [04:15<1:48:54,  6.57s/it]"
     ]
    },
    {
     "name": "stdout",
     "output_type": "stream",
     "text": [
      "cognitive radio technology 200\n"
     ]
    },
    {
     "name": "stderr",
     "output_type": "stream",
     "text": [
      "\r",
      "  5%|▍         | 47/1040 [04:23<1:53:05,  6.83s/it]"
     ]
    },
    {
     "name": "stdout",
     "output_type": "stream",
     "text": [
      "intransit visibility system 200\n"
     ]
    },
    {
     "name": "stderr",
     "output_type": "stream",
     "text": [
      "\r",
      "  5%|▍         | 49/1040 [04:30<1:38:12,  5.95s/it]"
     ]
    },
    {
     "name": "stdout",
     "output_type": "stream",
     "text": [
      "joint communications network 200\n"
     ]
    },
    {
     "name": "stderr",
     "output_type": "stream",
     "text": [
      "\r",
      "  5%|▍         | 51/1040 [04:38<1:27:10,  5.29s/it]"
     ]
    },
    {
     "name": "stdout",
     "output_type": "stream",
     "text": [
      "missile defence system One could argue that such a missile defence system would bring about the abandonment of ballistic missiles as strategic weapons.\n"
     ]
    },
    {
     "name": "stderr",
     "output_type": "stream",
     "text": [
      "\r",
      "  5%|▌         | 53/1040 [04:46<1:21:04,  4.93s/it]"
     ]
    },
    {
     "name": "stdout",
     "output_type": "stream",
     "text": [
      "tailoring technology 200\n"
     ]
    },
    {
     "name": "stderr",
     "output_type": "stream",
     "text": [
      "\r",
      "  5%|▌         | 54/1040 [04:54<1:34:29,  5.75s/it]"
     ]
    },
    {
     "name": "stdout",
     "output_type": "stream",
     "text": [
      "full motion video sensors 200\n"
     ]
    },
    {
     "name": "stderr",
     "output_type": "stream",
     "text": [
      "\r",
      "  5%|▌         | 55/1040 [05:01<1:42:34,  6.25s/it]"
     ]
    },
    {
     "name": "stdout",
     "output_type": "stream",
     "text": [
      "close circuit television system 200\n"
     ]
    },
    {
     "name": "stderr",
     "output_type": "stream",
     "text": [
      "\r",
      "  5%|▌         | 56/1040 [05:08<1:46:47,  6.51s/it]"
     ]
    },
    {
     "name": "stdout",
     "output_type": "stream",
     "text": [
      "mobile technologies 200\n"
     ]
    },
    {
     "name": "stderr",
     "output_type": "stream",
     "text": [
      "\r",
      "  5%|▌         | 57/1040 [05:16<1:52:40,  6.88s/it]"
     ]
    },
    {
     "name": "stdout",
     "output_type": "stream",
     "text": [
      "global decision support system 200\n"
     ]
    },
    {
     "name": "stderr",
     "output_type": "stream",
     "text": [
      "\r",
      "  6%|▌         | 58/1040 [05:23<1:55:18,  7.05s/it]"
     ]
    },
    {
     "name": "stdout",
     "output_type": "stream",
     "text": [
      "system testing 200\n"
     ]
    },
    {
     "name": "stderr",
     "output_type": "stream",
     "text": [
      "\r",
      "  6%|▌         | 59/1040 [05:31<1:57:01,  7.16s/it]"
     ]
    },
    {
     "name": "stdout",
     "output_type": "stream",
     "text": [
      "intelligence collection system 200\n"
     ]
    },
    {
     "name": "stderr",
     "output_type": "stream",
     "text": [
      "\r",
      "  6%|▌         | 60/1040 [05:38<1:59:02,  7.29s/it]"
     ]
    },
    {
     "name": "stdout",
     "output_type": "stream",
     "text": [
      "hydration system 200\n"
     ]
    },
    {
     "name": "stderr",
     "output_type": "stream",
     "text": [
      "\r",
      "  6%|▌         | 61/1040 [05:46<2:01:39,  7.46s/it]"
     ]
    },
    {
     "name": "stdout",
     "output_type": "stream",
     "text": [
      "simulation software 200\n"
     ]
    },
    {
     "name": "stderr",
     "output_type": "stream",
     "text": [
      "\r",
      "  6%|▌         | 62/1040 [05:54<2:00:23,  7.39s/it]"
     ]
    },
    {
     "name": "stdout",
     "output_type": "stream",
     "text": [
      "maritime sensor 200\n"
     ]
    },
    {
     "name": "stderr",
     "output_type": "stream",
     "text": [
      "\r",
      "  6%|▌         | 63/1040 [06:01<2:01:06,  7.44s/it]"
     ]
    },
    {
     "name": "stdout",
     "output_type": "stream",
     "text": [
      "ship navigation sensors 200\n"
     ]
    },
    {
     "name": "stderr",
     "output_type": "stream",
     "text": [
      "\r",
      "  6%|▌         | 64/1040 [06:08<2:00:20,  7.40s/it]"
     ]
    },
    {
     "name": "stdout",
     "output_type": "stream",
     "text": [
      "interactive voice response 200\n"
     ]
    },
    {
     "name": "stderr",
     "output_type": "stream",
     "text": [
      "\r",
      "  6%|▋         | 65/1040 [06:16<2:02:42,  7.55s/it]"
     ]
    },
    {
     "name": "stdout",
     "output_type": "stream",
     "text": [
      "laser rangefinder 200\n"
     ]
    },
    {
     "name": "stderr",
     "output_type": "stream",
     "text": [
      "\r",
      "  6%|▋         | 66/1040 [06:24<2:02:37,  7.55s/it]"
     ]
    },
    {
     "name": "stdout",
     "output_type": "stream",
     "text": [
      "discrete event system 200\n"
     ]
    },
    {
     "name": "stderr",
     "output_type": "stream",
     "text": [
      "\r",
      "  7%|▋         | 69/1040 [06:32<1:38:02,  6.06s/it]"
     ]
    },
    {
     "name": "stdout",
     "output_type": "stream",
     "text": [
      "linpack benchmark 200\n"
     ]
    },
    {
     "name": "stderr",
     "output_type": "stream",
     "text": [
      "\r",
      "  7%|▋         | 70/1040 [06:39<1:45:12,  6.51s/it]"
     ]
    },
    {
     "name": "stdout",
     "output_type": "stream",
     "text": [
      "ballistic missile defense system 200\n"
     ]
    },
    {
     "name": "stderr",
     "output_type": "stream",
     "text": [
      "\r",
      "  7%|▋         | 71/1040 [06:47<1:49:54,  6.81s/it]"
     ]
    },
    {
     "name": "stdout",
     "output_type": "stream",
     "text": [
      "intelligence network 200\n"
     ]
    },
    {
     "name": "stderr",
     "output_type": "stream",
     "text": [
      "\r",
      "  7%|▋         | 72/1040 [06:54<1:53:41,  7.05s/it]"
     ]
    },
    {
     "name": "stdout",
     "output_type": "stream",
     "text": [
      "single channel radio 200\n"
     ]
    },
    {
     "name": "stderr",
     "output_type": "stream",
     "text": [
      "\r",
      "  7%|▋         | 74/1040 [07:03<1:40:04,  6.22s/it]"
     ]
    },
    {
     "name": "stdout",
     "output_type": "stream",
     "text": [
      "passive network 200\n"
     ]
    },
    {
     "name": "stderr",
     "output_type": "stream",
     "text": [
      "\r",
      "  7%|▋         | 75/1040 [07:10<1:45:35,  6.57s/it]"
     ]
    },
    {
     "name": "stdout",
     "output_type": "stream",
     "text": [
      "architecture framework information systems 200\n"
     ]
    },
    {
     "name": "stderr",
     "output_type": "stream",
     "text": [
      "\r",
      "  7%|▋         | 76/1040 [07:17<1:48:08,  6.73s/it]"
     ]
    },
    {
     "name": "stdout",
     "output_type": "stream",
     "text": [
      "earth observation systems 200\n"
     ]
    },
    {
     "name": "stderr",
     "output_type": "stream",
     "text": [
      "\r",
      "  7%|▋         | 77/1040 [07:25<1:53:34,  7.08s/it]"
     ]
    },
    {
     "name": "stdout",
     "output_type": "stream",
     "text": [
      "equipment discovery sensor 200\n"
     ]
    },
    {
     "name": "stderr",
     "output_type": "stream",
     "text": [
      "\r",
      "  8%|▊         | 78/1040 [07:32<1:52:45,  7.03s/it]"
     ]
    },
    {
     "name": "stdout",
     "output_type": "stream",
     "text": [
      "events emergencies system 200\n"
     ]
    },
    {
     "name": "stderr",
     "output_type": "stream",
     "text": [
      "\r",
      "  8%|▊         | 79/1040 [07:40<1:54:40,  7.16s/it]"
     ]
    },
    {
     "name": "stdout",
     "output_type": "stream",
     "text": [
      "network management physical network 200\n"
     ]
    },
    {
     "name": "stderr",
     "output_type": "stream",
     "text": [
      "\r",
      "  8%|▊         | 82/1040 [07:47<1:31:37,  5.74s/it]"
     ]
    },
    {
     "name": "stdout",
     "output_type": "stream",
     "text": [
      "portable computer system 503\n"
     ]
    },
    {
     "name": "stderr",
     "output_type": "stream",
     "text": [
      "\r",
      "  8%|▊         | 83/1040 [07:51<1:26:04,  5.40s/it]"
     ]
    },
    {
     "name": "stdout",
     "output_type": "stream",
     "text": [
      "routing radio communication system 503\n"
     ]
    },
    {
     "name": "stderr",
     "output_type": "stream",
     "text": [
      "\r",
      "  8%|▊         | 84/1040 [07:56<1:19:47,  5.01s/it]"
     ]
    },
    {
     "name": "stdout",
     "output_type": "stream",
     "text": [
      "tactical water distribution system 503\n"
     ]
    },
    {
     "name": "stderr",
     "output_type": "stream",
     "text": [
      "\r",
      "  8%|▊         | 85/1040 [08:00<1:18:16,  4.92s/it]"
     ]
    },
    {
     "name": "stdout",
     "output_type": "stream",
     "text": [
      "sociotechnical 503\n"
     ]
    },
    {
     "name": "stderr",
     "output_type": "stream",
     "text": [
      "\r",
      "  8%|▊         | 87/1040 [08:04<1:04:24,  4.05s/it]"
     ]
    },
    {
     "name": "stdout",
     "output_type": "stream",
     "text": [
      "naval electronic systems 503\n"
     ]
    },
    {
     "name": "stderr",
     "output_type": "stream",
     "text": [
      "\r",
      "  8%|▊         | 88/1040 [08:08<1:04:44,  4.08s/it]"
     ]
    },
    {
     "name": "stdout",
     "output_type": "stream",
     "text": [
      "aircraft sensor 503\n"
     ]
    },
    {
     "name": "stderr",
     "output_type": "stream",
     "text": [
      "\r",
      "  9%|▊         | 90/1040 [08:13<55:11,  3.49s/it]  "
     ]
    },
    {
     "name": "stdout",
     "output_type": "stream",
     "text": [
      "optronic sensors 503\n"
     ]
    },
    {
     "name": "stderr",
     "output_type": "stream",
     "text": [
      "\r",
      "  9%|▉         | 91/1040 [08:17<58:59,  3.73s/it]"
     ]
    },
    {
     "name": "stdout",
     "output_type": "stream",
     "text": [
      "air mobility support system 503\n"
     ]
    },
    {
     "name": "stderr",
     "output_type": "stream",
     "text": [
      "\r",
      "  9%|▉         | 92/1040 [08:21<1:01:33,  3.90s/it]"
     ]
    },
    {
     "name": "stdout",
     "output_type": "stream",
     "text": [
      "semi-autonomous battlefield systems 503\n"
     ]
    },
    {
     "name": "stderr",
     "output_type": "stream",
     "text": [
      "\r",
      "  9%|▉         | 94/1040 [08:26<53:31,  3.39s/it]  "
     ]
    },
    {
     "name": "stdout",
     "output_type": "stream",
     "text": [
      "infrared camera system 503\n"
     ]
    },
    {
     "name": "stderr",
     "output_type": "stream",
     "text": [
      "\r",
      "  9%|▉         | 96/1040 [08:30<47:24,  3.01s/it]"
     ]
    },
    {
     "name": "stdout",
     "output_type": "stream",
     "text": [
      "project management software 503\n"
     ]
    },
    {
     "name": "stderr",
     "output_type": "stream",
     "text": [
      "\r",
      "  9%|▉         | 97/1040 [08:34<53:02,  3.38s/it]"
     ]
    },
    {
     "name": "stdout",
     "output_type": "stream",
     "text": [
      "platform management system 503\n"
     ]
    },
    {
     "name": "stderr",
     "output_type": "stream",
     "text": [
      "\r",
      "  9%|▉         | 98/1040 [08:38<56:48,  3.62s/it]"
     ]
    },
    {
     "name": "stdout",
     "output_type": "stream",
     "text": [
      "lithium polymer battery technology 503\n"
     ]
    },
    {
     "name": "stderr",
     "output_type": "stream",
     "text": [
      "\r",
      " 10%|▉         | 99/1040 [08:43<59:24,  3.79s/it]"
     ]
    },
    {
     "name": "stdout",
     "output_type": "stream",
     "text": [
      "multispectral sensors 503\n"
     ]
    },
    {
     "name": "stderr",
     "output_type": "stream",
     "text": [
      "\r",
      " 10%|▉         | 100/1040 [08:46<59:57,  3.83s/it]"
     ]
    },
    {
     "name": "stdout",
     "output_type": "stream",
     "text": [
      "software-defined radio 503\n"
     ]
    },
    {
     "name": "stderr",
     "output_type": "stream",
     "text": [
      "\r",
      " 10%|▉         | 101/1040 [08:51<1:02:04,  3.97s/it]"
     ]
    },
    {
     "name": "stdout",
     "output_type": "stream",
     "text": [
      "operational system 503\n"
     ]
    },
    {
     "name": "stderr",
     "output_type": "stream",
     "text": [
      "\r",
      " 10%|▉         | 102/1040 [08:55<1:02:35,  4.00s/it]"
     ]
    },
    {
     "name": "stdout",
     "output_type": "stream",
     "text": [
      "control communications system 503\n"
     ]
    },
    {
     "name": "stderr",
     "output_type": "stream",
     "text": [
      "\r",
      " 10%|▉         | 103/1040 [08:59<1:02:58,  4.03s/it]"
     ]
    },
    {
     "name": "stdout",
     "output_type": "stream",
     "text": [
      "telecommunications networks 503\n"
     ]
    },
    {
     "name": "stderr",
     "output_type": "stream",
     "text": [
      "\r",
      " 10%|█         | 104/1040 [09:03<1:04:19,  4.12s/it]"
     ]
    },
    {
     "name": "stdout",
     "output_type": "stream",
     "text": [
      "high integrity telecoms system 503\n"
     ]
    },
    {
     "name": "stderr",
     "output_type": "stream",
     "text": [
      "\r",
      " 10%|█         | 105/1040 [09:08<1:04:52,  4.16s/it]"
     ]
    },
    {
     "name": "stdout",
     "output_type": "stream",
     "text": [
      "defence information systems 503\n"
     ]
    },
    {
     "name": "stderr",
     "output_type": "stream",
     "text": [
      "\r",
      " 10%|█         | 106/1040 [09:12<1:04:58,  4.17s/it]"
     ]
    },
    {
     "name": "stdout",
     "output_type": "stream",
     "text": [
      "laptop devices 503\n"
     ]
    },
    {
     "name": "stderr",
     "output_type": "stream",
     "text": [
      "\r",
      " 10%|█         | 107/1040 [09:16<1:05:04,  4.19s/it]"
     ]
    },
    {
     "name": "stdout",
     "output_type": "stream",
     "text": [
      "vehicle mission systems 503\n"
     ]
    },
    {
     "name": "stderr",
     "output_type": "stream",
     "text": [
      "\r",
      " 10%|█         | 108/1040 [09:20<1:04:59,  4.18s/it]"
     ]
    },
    {
     "name": "stdout",
     "output_type": "stream",
     "text": [
      "retina detection sensors 503\n"
     ]
    },
    {
     "name": "stderr",
     "output_type": "stream",
     "text": [
      "\r",
      " 10%|█         | 109/1040 [09:24<1:05:29,  4.22s/it]"
     ]
    },
    {
     "name": "stdout",
     "output_type": "stream",
     "text": [
      "unmanned vehicles 503\n"
     ]
    },
    {
     "name": "stderr",
     "output_type": "stream",
     "text": [
      "\r",
      " 11%|█         | 110/1040 [09:29<1:05:18,  4.21s/it]"
     ]
    },
    {
     "name": "stdout",
     "output_type": "stream",
     "text": [
      "network layer 503\n"
     ]
    },
    {
     "name": "stderr",
     "output_type": "stream",
     "text": [
      "\r",
      " 11%|█         | 111/1040 [09:33<1:04:41,  4.18s/it]"
     ]
    },
    {
     "name": "stdout",
     "output_type": "stream",
     "text": [
      "operator consoles 503\n"
     ]
    },
    {
     "name": "stderr",
     "output_type": "stream",
     "text": [
      "\r",
      " 11%|█         | 112/1040 [09:37<1:04:50,  4.19s/it]"
     ]
    },
    {
     "name": "stdout",
     "output_type": "stream",
     "text": [
      "oriented system 503\n"
     ]
    },
    {
     "name": "stderr",
     "output_type": "stream",
     "text": [
      "\r",
      " 11%|█         | 115/1040 [09:41<51:51,  3.36s/it]  "
     ]
    },
    {
     "name": "stdout",
     "output_type": "stream",
     "text": [
      "simulation 503\n"
     ]
    },
    {
     "name": "stderr",
     "output_type": "stream",
     "text": [
      "\r",
      " 11%|█         | 116/1040 [09:45<55:06,  3.58s/it]"
     ]
    },
    {
     "name": "stdout",
     "output_type": "stream",
     "text": [
      "surveillance technologies 503\n"
     ]
    },
    {
     "name": "stderr",
     "output_type": "stream",
     "text": [
      "\r",
      " 11%|█▏        | 117/1040 [09:50<58:34,  3.81s/it]"
     ]
    },
    {
     "name": "stdout",
     "output_type": "stream",
     "text": [
      "military communications technology 503\n"
     ]
    },
    {
     "name": "stderr",
     "output_type": "stream",
     "text": [
      "\r",
      " 11%|█▏        | 119/1040 [09:54<50:17,  3.28s/it]"
     ]
    },
    {
     "name": "stdout",
     "output_type": "stream",
     "text": [
      "military computer 503\n"
     ]
    },
    {
     "name": "stderr",
     "output_type": "stream",
     "text": [
      "\r",
      " 12%|█▏        | 120/1040 [09:58<53:27,  3.49s/it]"
     ]
    },
    {
     "name": "stdout",
     "output_type": "stream",
     "text": [
      "data link devices 503\n"
     ]
    },
    {
     "name": "stderr",
     "output_type": "stream",
     "text": [
      "\r",
      " 12%|█▏        | 122/1040 [10:02<47:00,  3.07s/it]"
     ]
    },
    {
     "name": "stdout",
     "output_type": "stream",
     "text": [
      "land operations intelligence system 503\n"
     ]
    },
    {
     "name": "stderr",
     "output_type": "stream",
     "text": [
      "\r",
      " 12%|█▏        | 123/1040 [10:06<52:26,  3.43s/it]"
     ]
    },
    {
     "name": "stdout",
     "output_type": "stream",
     "text": [
      "networking systems 503\n"
     ]
    },
    {
     "name": "stderr",
     "output_type": "stream",
     "text": [
      "\r",
      " 12%|█▏        | 124/1040 [10:10<56:07,  3.68s/it]"
     ]
    },
    {
     "name": "stdout",
     "output_type": "stream",
     "text": [
      "airspace management system 503\n"
     ]
    },
    {
     "name": "stderr",
     "output_type": "stream",
     "text": [
      "\r",
      " 12%|█▏        | 126/1040 [10:15<48:39,  3.19s/it]"
     ]
    },
    {
     "name": "stdout",
     "output_type": "stream",
     "text": [
      "félin infantry equipment system 503\n"
     ]
    },
    {
     "name": "stderr",
     "output_type": "stream",
     "text": [
      "\r",
      " 12%|█▏        | 127/1040 [10:19<52:23,  3.44s/it]"
     ]
    },
    {
     "name": "stdout",
     "output_type": "stream",
     "text": [
      "adaptive planning 503\n"
     ]
    },
    {
     "name": "stderr",
     "output_type": "stream",
     "text": [
      "\r",
      " 12%|█▏        | 129/1040 [10:23<46:09,  3.04s/it]"
     ]
    },
    {
     "name": "stdout",
     "output_type": "stream",
     "text": [
      "earth observation space systems 503\n"
     ]
    },
    {
     "name": "stderr",
     "output_type": "stream",
     "text": [
      "\r",
      " 12%|█▎        | 130/1040 [10:27<51:02,  3.37s/it]"
     ]
    },
    {
     "name": "stdout",
     "output_type": "stream",
     "text": [
      "language technology 503\n"
     ]
    },
    {
     "name": "stderr",
     "output_type": "stream",
     "text": [
      "\r",
      " 13%|█▎        | 131/1040 [10:31<55:41,  3.68s/it]"
     ]
    },
    {
     "name": "stdout",
     "output_type": "stream",
     "text": [
      "adversary information systems 503\n"
     ]
    },
    {
     "name": "stderr",
     "output_type": "stream",
     "text": [
      "\r",
      " 13%|█▎        | 132/1040 [10:36<58:05,  3.84s/it]"
     ]
    },
    {
     "name": "stdout",
     "output_type": "stream",
     "text": [
      "intercontinental ballistic missile systems 503\n"
     ]
    },
    {
     "name": "stderr",
     "output_type": "stream",
     "text": [
      "\r",
      " 13%|█▎        | 133/1040 [10:40<1:00:29,  4.00s/it]"
     ]
    },
    {
     "name": "stdout",
     "output_type": "stream",
     "text": [
      "term computer 503\n"
     ]
    },
    {
     "name": "stderr",
     "output_type": "stream",
     "text": [
      "\r",
      " 13%|█▎        | 134/1040 [10:44<1:03:04,  4.18s/it]"
     ]
    },
    {
     "name": "stdout",
     "output_type": "stream",
     "text": [
      "deepfakes 503\n"
     ]
    },
    {
     "name": "stderr",
     "output_type": "stream",
     "text": [
      "\r",
      " 13%|█▎        | 135/1040 [10:49<1:03:13,  4.19s/it]"
     ]
    },
    {
     "name": "stdout",
     "output_type": "stream",
     "text": [
      "fighters battlefield management systems 503\n"
     ]
    },
    {
     "name": "stderr",
     "output_type": "stream",
     "text": [
      "\r",
      " 13%|█▎        | 136/1040 [10:53<1:03:03,  4.19s/it]"
     ]
    },
    {
     "name": "stdout",
     "output_type": "stream",
     "text": [
      "space system 503\n"
     ]
    },
    {
     "name": "stderr",
     "output_type": "stream",
     "text": [
      "\r",
      " 13%|█▎        | 137/1040 [10:57<1:02:49,  4.17s/it]"
     ]
    },
    {
     "name": "stdout",
     "output_type": "stream",
     "text": [
      "underwater systems 503\n"
     ]
    },
    {
     "name": "stderr",
     "output_type": "stream",
     "text": [
      "\r",
      " 13%|█▎        | 138/1040 [11:01<1:03:00,  4.19s/it]"
     ]
    },
    {
     "name": "stdout",
     "output_type": "stream",
     "text": [
      "re-transmission mechanism 503\n"
     ]
    },
    {
     "name": "stderr",
     "output_type": "stream",
     "text": [
      "\r",
      " 13%|█▎        | 139/1040 [11:06<1:03:10,  4.21s/it]"
     ]
    },
    {
     "name": "stdout",
     "output_type": "stream",
     "text": [
      "lethal autonomous devices 503\n"
     ]
    },
    {
     "name": "stderr",
     "output_type": "stream",
     "text": [
      "\r",
      " 13%|█▎        | 140/1040 [11:10<1:03:26,  4.23s/it]"
     ]
    },
    {
     "name": "stdout",
     "output_type": "stream",
     "text": [
      "alliance ground surveillance system 503\n"
     ]
    },
    {
     "name": "stderr",
     "output_type": "stream",
     "text": [
      "\r",
      " 14%|█▎        | 141/1040 [11:14<1:04:08,  4.28s/it]"
     ]
    },
    {
     "name": "stdout",
     "output_type": "stream",
     "text": [
      "evacuation system 503\n"
     ]
    },
    {
     "name": "stderr",
     "output_type": "stream",
     "text": [
      "\r",
      " 14%|█▍        | 143/1040 [11:18<54:11,  3.62s/it]  "
     ]
    },
    {
     "name": "stdout",
     "output_type": "stream",
     "text": [
      "military global positioning system 503\n"
     ]
    },
    {
     "name": "stderr",
     "output_type": "stream",
     "text": [
      "\r",
      " 14%|█▍        | 145/1040 [11:22<46:53,  3.14s/it]"
     ]
    },
    {
     "name": "stdout",
     "output_type": "stream",
     "text": [
      "air ground surveillance sensors 503\n"
     ]
    },
    {
     "name": "stderr",
     "output_type": "stream",
     "text": [
      "\r",
      " 14%|█▍        | 146/1040 [11:26<50:54,  3.42s/it]"
     ]
    },
    {
     "name": "stdout",
     "output_type": "stream",
     "text": [
      "alert measurement systems 503\n"
     ]
    },
    {
     "name": "stderr",
     "output_type": "stream",
     "text": [
      "\r",
      " 14%|█▍        | 148/1040 [11:31<44:47,  3.01s/it]"
     ]
    },
    {
     "name": "stdout",
     "output_type": "stream",
     "text": [
      "airspace surveillance technologies 503\n"
     ]
    },
    {
     "name": "stderr",
     "output_type": "stream",
     "text": [
      "\r",
      " 14%|█▍        | 149/1040 [11:35<50:19,  3.39s/it]"
     ]
    },
    {
     "name": "stdout",
     "output_type": "stream",
     "text": [
      "digital electro-optical systems 503\n"
     ]
    },
    {
     "name": "stderr",
     "output_type": "stream",
     "text": [
      "\r",
      " 14%|█▍        | 150/1040 [11:39<53:52,  3.63s/it]"
     ]
    },
    {
     "name": "stdout",
     "output_type": "stream",
     "text": [
      "wireless mesh networks 503\n"
     ]
    },
    {
     "name": "stderr",
     "output_type": "stream",
     "text": [
      "\r",
      " 15%|█▍        | 152/1040 [11:43<46:58,  3.17s/it]"
     ]
    },
    {
     "name": "stdout",
     "output_type": "stream",
     "text": [
      "data profiling 503\n"
     ]
    },
    {
     "name": "stderr",
     "output_type": "stream",
     "text": [
      "\r",
      " 15%|█▍        | 153/1040 [11:47<51:10,  3.46s/it]"
     ]
    },
    {
     "name": "stdout",
     "output_type": "stream",
     "text": [
      "joint network management system 503\n"
     ]
    },
    {
     "name": "stderr",
     "output_type": "stream",
     "text": [
      "\r",
      " 15%|█▍        | 154/1040 [11:52<55:05,  3.73s/it]"
     ]
    },
    {
     "name": "stdout",
     "output_type": "stream",
     "text": [
      "finite state machines 503\n"
     ]
    },
    {
     "name": "stderr",
     "output_type": "stream",
     "text": [
      "\r",
      " 15%|█▍        | 155/1040 [11:56<57:06,  3.87s/it]"
     ]
    },
    {
     "name": "stdout",
     "output_type": "stream",
     "text": [
      "programming languages 503\n"
     ]
    },
    {
     "name": "stderr",
     "output_type": "stream",
     "text": [
      "\r",
      " 15%|█▌        | 156/1040 [12:00<58:51,  3.99s/it]"
     ]
    },
    {
     "name": "stdout",
     "output_type": "stream",
     "text": [
      "meteorological sensors 503\n"
     ]
    },
    {
     "name": "stderr",
     "output_type": "stream",
     "text": [
      "\r",
      " 15%|█▌        | 157/1040 [12:05<1:00:36,  4.12s/it]"
     ]
    },
    {
     "name": "stdout",
     "output_type": "stream",
     "text": [
      "satellite radio 503\n"
     ]
    },
    {
     "name": "stderr",
     "output_type": "stream",
     "text": [
      "\r",
      " 15%|█▌        | 158/1040 [12:09<1:00:26,  4.11s/it]"
     ]
    },
    {
     "name": "stdout",
     "output_type": "stream",
     "text": [
      "northrop grumman information systems 503\n"
     ]
    },
    {
     "name": "stderr",
     "output_type": "stream",
     "text": [
      "\r",
      " 15%|█▌        | 159/1040 [12:13<1:00:16,  4.10s/it]"
     ]
    },
    {
     "name": "stdout",
     "output_type": "stream",
     "text": [
      "anti-drone protection systems 503\n"
     ]
    },
    {
     "name": "stderr",
     "output_type": "stream",
     "text": [
      "\r",
      " 15%|█▌        | 160/1040 [12:17<1:00:15,  4.11s/it]"
     ]
    },
    {
     "name": "stdout",
     "output_type": "stream",
     "text": [
      "hardware systems 503\n"
     ]
    },
    {
     "name": "stderr",
     "output_type": "stream",
     "text": [
      "\r",
      " 16%|█▌        | 162/1040 [12:21<51:52,  3.55s/it]  "
     ]
    },
    {
     "name": "stdout",
     "output_type": "stream",
     "text": [
      "information technology computer 503\n"
     ]
    },
    {
     "name": "stderr",
     "output_type": "stream",
     "text": [
      "\r",
      " 16%|█▌        | 163/1040 [12:26<55:08,  3.77s/it]"
     ]
    },
    {
     "name": "stdout",
     "output_type": "stream",
     "text": [
      "code technology computer 503\n"
     ]
    },
    {
     "name": "stderr",
     "output_type": "stream",
     "text": [
      "\r",
      " 16%|█▌        | 164/1040 [12:30<58:22,  4.00s/it]"
     ]
    },
    {
     "name": "stdout",
     "output_type": "stream",
     "text": [
      "intelligence data analysis system 503\n"
     ]
    },
    {
     "name": "stderr",
     "output_type": "stream",
     "text": [
      "\r",
      " 16%|█▌        | 165/1040 [12:34<59:12,  4.06s/it]"
     ]
    },
    {
     "name": "stdout",
     "output_type": "stream",
     "text": [
      "joint precision airdrop system 503\n"
     ]
    },
    {
     "name": "stderr",
     "output_type": "stream",
     "text": [
      "\r",
      " 16%|█▌        | 167/1040 [12:39<50:38,  3.48s/it]"
     ]
    },
    {
     "name": "stdout",
     "output_type": "stream",
     "text": [
      "advanced tactical communications system 503\n"
     ]
    },
    {
     "name": "stderr",
     "output_type": "stream",
     "text": [
      "\r",
      " 16%|█▌        | 168/1040 [12:43<53:57,  3.71s/it]"
     ]
    },
    {
     "name": "stdout",
     "output_type": "stream",
     "text": [
      "work light 503\n"
     ]
    },
    {
     "name": "stderr",
     "output_type": "stream",
     "text": [
      "\r",
      " 16%|█▋        | 169/1040 [12:47<55:31,  3.82s/it]"
     ]
    },
    {
     "name": "stdout",
     "output_type": "stream",
     "text": [
      "adaptive control system 503\n"
     ]
    },
    {
     "name": "stderr",
     "output_type": "stream",
     "text": [
      "\r",
      " 16%|█▋        | 171/1040 [12:51<47:53,  3.31s/it]"
     ]
    },
    {
     "name": "stdout",
     "output_type": "stream",
     "text": [
      "infrared sensor 503\n"
     ]
    },
    {
     "name": "stderr",
     "output_type": "stream",
     "text": [
      "\r",
      " 17%|█▋        | 172/1040 [12:55<51:06,  3.53s/it]"
     ]
    },
    {
     "name": "stdout",
     "output_type": "stream",
     "text": [
      "asset movement management system 503\n"
     ]
    },
    {
     "name": "stderr",
     "output_type": "stream",
     "text": [
      "\r",
      " 17%|█▋        | 173/1040 [13:00<54:04,  3.74s/it]"
     ]
    },
    {
     "name": "stdout",
     "output_type": "stream",
     "text": [
      "unmanned aerial system 503\n"
     ]
    },
    {
     "name": "stderr",
     "output_type": "stream",
     "text": [
      "\r",
      " 17%|█▋        | 174/1040 [13:04<55:58,  3.88s/it]"
     ]
    },
    {
     "name": "stdout",
     "output_type": "stream",
     "text": [
      "cosmoskymed system 503\n"
     ]
    },
    {
     "name": "stderr",
     "output_type": "stream",
     "text": [
      "\r",
      " 17%|█▋        | 175/1040 [13:08<57:19,  3.98s/it]"
     ]
    },
    {
     "name": "stdout",
     "output_type": "stream",
     "text": [
      "underwater acoustic sensors 503\n"
     ]
    },
    {
     "name": "stderr",
     "output_type": "stream",
     "text": [
      "\r",
      " 17%|█▋        | 176/1040 [13:12<58:12,  4.04s/it]"
     ]
    },
    {
     "name": "stdout",
     "output_type": "stream",
     "text": [
      "patrol boat 503\n"
     ]
    },
    {
     "name": "stderr",
     "output_type": "stream",
     "text": [
      "\r",
      " 17%|█▋        | 179/1040 [13:16<46:34,  3.25s/it]"
     ]
    },
    {
     "name": "stdout",
     "output_type": "stream",
     "text": [
      "drone system 503\n"
     ]
    },
    {
     "name": "stderr",
     "output_type": "stream",
     "text": [
      "\r",
      " 17%|█▋        | 180/1040 [13:20<50:19,  3.51s/it]"
     ]
    },
    {
     "name": "stdout",
     "output_type": "stream",
     "text": [
      "tactical data link system 503\n"
     ]
    },
    {
     "name": "stderr",
     "output_type": "stream",
     "text": [
      "\r",
      " 18%|█▊        | 182/1040 [13:25<44:11,  3.09s/it]"
     ]
    },
    {
     "name": "stdout",
     "output_type": "stream",
     "text": [
      "remote sensing 503\n"
     ]
    },
    {
     "name": "stderr",
     "output_type": "stream",
     "text": [
      "\r",
      " 18%|█▊        | 183/1040 [13:29<49:16,  3.45s/it]"
     ]
    },
    {
     "name": "stdout",
     "output_type": "stream",
     "text": [
      "land battle management systems 503\n"
     ]
    },
    {
     "name": "stderr",
     "output_type": "stream",
     "text": [
      "\r",
      " 18%|█▊        | 184/1040 [13:33<52:04,  3.65s/it]"
     ]
    },
    {
     "name": "stdout",
     "output_type": "stream",
     "text": [
      "telecommunications systems 503\n"
     ]
    },
    {
     "name": "stderr",
     "output_type": "stream",
     "text": [
      "\r",
      " 18%|█▊        | 186/1040 [13:38<45:56,  3.23s/it]"
     ]
    },
    {
     "name": "stdout",
     "output_type": "stream",
     "text": [
      "technical surveillance technologies 503\n"
     ]
    },
    {
     "name": "stderr",
     "output_type": "stream",
     "text": [
      "\r",
      " 18%|█▊        | 187/1040 [13:42<50:00,  3.52s/it]"
     ]
    },
    {
     "name": "stdout",
     "output_type": "stream",
     "text": [
      "wideband global satcom system 503\n"
     ]
    },
    {
     "name": "stderr",
     "output_type": "stream",
     "text": [
      "\r",
      " 18%|█▊        | 188/1040 [13:46<52:31,  3.70s/it]"
     ]
    },
    {
     "name": "stdout",
     "output_type": "stream",
     "text": [
      "headset system 503\n"
     ]
    },
    {
     "name": "stderr",
     "output_type": "stream",
     "text": [
      "\r",
      " 18%|█▊        | 191/1040 [13:50<42:36,  3.01s/it]"
     ]
    },
    {
     "name": "stdout",
     "output_type": "stream",
     "text": [
      "advanced military communication system 503\n"
     ]
    },
    {
     "name": "stderr",
     "output_type": "stream",
     "text": [
      "\r",
      " 18%|█▊        | 192/1040 [13:55<48:44,  3.45s/it]"
     ]
    },
    {
     "name": "stdout",
     "output_type": "stream",
     "text": [
      "wideband network 503\n"
     ]
    },
    {
     "name": "stderr",
     "output_type": "stream",
     "text": [
      "\r",
      " 19%|█▊        | 193/1040 [13:59<52:45,  3.74s/it]"
     ]
    },
    {
     "name": "stdout",
     "output_type": "stream",
     "text": [
      "material information resource system 503\n"
     ]
    },
    {
     "name": "stderr",
     "output_type": "stream",
     "text": [
      "\r",
      " 19%|█▊        | 194/1040 [14:03<54:49,  3.89s/it]"
     ]
    },
    {
     "name": "stdout",
     "output_type": "stream",
     "text": [
      "cloud technologies 503\n"
     ]
    },
    {
     "name": "stderr",
     "output_type": "stream",
     "text": [
      "\r",
      " 19%|█▉        | 195/1040 [14:07<55:49,  3.96s/it]"
     ]
    },
    {
     "name": "stdout",
     "output_type": "stream",
     "text": [
      "architecture dod framework systems 503\n"
     ]
    },
    {
     "name": "stderr",
     "output_type": "stream",
     "text": [
      "\r",
      " 19%|█▉        | 197/1040 [14:12<47:44,  3.40s/it]"
     ]
    },
    {
     "name": "stdout",
     "output_type": "stream",
     "text": [
      "gun systems 503\n"
     ]
    },
    {
     "name": "stderr",
     "output_type": "stream",
     "text": [
      "\r",
      " 19%|█▉        | 198/1040 [14:16<51:48,  3.69s/it]"
     ]
    },
    {
     "name": "stdout",
     "output_type": "stream",
     "text": [
      "multi-function radar systems 503\n"
     ]
    },
    {
     "name": "stderr",
     "output_type": "stream",
     "text": [
      "\r",
      " 19%|█▉        | 200/1040 [14:20<44:43,  3.19s/it]"
     ]
    },
    {
     "name": "stdout",
     "output_type": "stream",
     "text": [
      "simulators devices 503\n"
     ]
    },
    {
     "name": "stderr",
     "output_type": "stream",
     "text": [
      "\r",
      " 19%|█▉        | 201/1040 [14:24<48:53,  3.50s/it]"
     ]
    },
    {
     "name": "stdout",
     "output_type": "stream",
     "text": [
      "assurance gncc global network 503\n"
     ]
    },
    {
     "name": "stderr",
     "output_type": "stream",
     "text": [
      "\r",
      " 19%|█▉        | 202/1040 [14:28<51:49,  3.71s/it]"
     ]
    },
    {
     "name": "stdout",
     "output_type": "stream",
     "text": [
      "discharge system 503\n"
     ]
    },
    {
     "name": "stderr",
     "output_type": "stream",
     "text": [
      "\r",
      " 20%|█▉        | 203/1040 [14:33<54:38,  3.92s/it]"
     ]
    },
    {
     "name": "stdout",
     "output_type": "stream",
     "text": [
      "fusion mechanisms 503\n"
     ]
    },
    {
     "name": "stderr",
     "output_type": "stream",
     "text": [
      "\r",
      " 20%|█▉        | 204/1040 [14:37<54:55,  3.94s/it]"
     ]
    },
    {
     "name": "stdout",
     "output_type": "stream",
     "text": [
      "global navigation satellite system 503\n"
     ]
    },
    {
     "name": "stderr",
     "output_type": "stream",
     "text": [
      "\r",
      " 20%|█▉        | 205/1040 [14:41<56:33,  4.06s/it]"
     ]
    },
    {
     "name": "stdout",
     "output_type": "stream",
     "text": [
      "amphibious assault fuel system 503\n"
     ]
    },
    {
     "name": "stderr",
     "output_type": "stream",
     "text": [
      "\r",
      " 20%|█▉        | 207/1040 [14:45<48:23,  3.49s/it]"
     ]
    },
    {
     "name": "stdout",
     "output_type": "stream",
     "text": [
      "advanced networking technologies 503\n"
     ]
    },
    {
     "name": "stderr",
     "output_type": "stream",
     "text": [
      "\r",
      " 20%|██        | 208/1040 [14:50<51:36,  3.72s/it]"
     ]
    },
    {
     "name": "stdout",
     "output_type": "stream",
     "text": [
      "optronic fire control sensor 503\n"
     ]
    },
    {
     "name": "stderr",
     "output_type": "stream",
     "text": [
      "\r",
      " 20%|██        | 209/1040 [14:54<52:46,  3.81s/it]"
     ]
    },
    {
     "name": "stdout",
     "output_type": "stream",
     "text": [
      "container asset management system 503\n"
     ]
    },
    {
     "name": "stderr",
     "output_type": "stream",
     "text": [
      "\r",
      " 20%|██        | 210/1040 [14:58<53:44,  3.89s/it]"
     ]
    },
    {
     "name": "stdout",
     "output_type": "stream",
     "text": [
      "data link technology 503\n"
     ]
    },
    {
     "name": "stderr",
     "output_type": "stream",
     "text": [
      "\r",
      " 20%|██        | 212/1040 [15:02<46:01,  3.33s/it]"
     ]
    },
    {
     "name": "stdout",
     "output_type": "stream",
     "text": [
      "infrared system 503\n"
     ]
    },
    {
     "name": "stderr",
     "output_type": "stream",
     "text": [
      "\r",
      " 20%|██        | 213/1040 [15:06<49:48,  3.61s/it]"
     ]
    },
    {
     "name": "stdout",
     "output_type": "stream",
     "text": [
      "ot readiness assessment system 503\n"
     ]
    },
    {
     "name": "stderr",
     "output_type": "stream",
     "text": [
      "\r",
      " 21%|██        | 214/1040 [15:10<52:55,  3.84s/it]"
     ]
    },
    {
     "name": "stdout",
     "output_type": "stream",
     "text": [
      "night target acquisition system 503\n"
     ]
    },
    {
     "name": "stderr",
     "output_type": "stream",
     "text": [
      "\r",
      " 21%|██        | 215/1040 [15:15<54:07,  3.94s/it]"
     ]
    },
    {
     "name": "stdout",
     "output_type": "stream",
     "text": [
      "robotic systems 503\n"
     ]
    },
    {
     "name": "stderr",
     "output_type": "stream",
     "text": [
      "\r",
      " 21%|██        | 216/1040 [15:19<54:29,  3.97s/it]"
     ]
    },
    {
     "name": "stdout",
     "output_type": "stream",
     "text": [
      "scouting systems 503\n"
     ]
    },
    {
     "name": "stderr",
     "output_type": "stream",
     "text": [
      "\r",
      " 21%|██        | 217/1040 [15:23<55:38,  4.06s/it]"
     ]
    },
    {
     "name": "stdout",
     "output_type": "stream",
     "text": [
      "defense biometric identification system 503\n"
     ]
    },
    {
     "name": "stderr",
     "output_type": "stream",
     "text": [
      "\r",
      " 21%|██        | 219/1040 [15:27<47:27,  3.47s/it]"
     ]
    },
    {
     "name": "stdout",
     "output_type": "stream",
     "text": [
      "scada 503\n"
     ]
    },
    {
     "name": "stderr",
     "output_type": "stream",
     "text": [
      "\r",
      " 21%|██        | 220/1040 [15:31<50:59,  3.73s/it]"
     ]
    },
    {
     "name": "stdout",
     "output_type": "stream",
     "text": [
      "perimeter detection sensors 503\n"
     ]
    },
    {
     "name": "stderr",
     "output_type": "stream",
     "text": [
      "\r",
      " 21%|██▏       | 221/1040 [15:36<52:38,  3.86s/it]"
     ]
    },
    {
     "name": "stdout",
     "output_type": "stream",
     "text": [
      "battalion mtcr missile technology 503\n"
     ]
    },
    {
     "name": "stderr",
     "output_type": "stream",
     "text": [
      "\r",
      " 21%|██▏       | 223/1040 [15:40<45:21,  3.33s/it]"
     ]
    },
    {
     "name": "stdout",
     "output_type": "stream",
     "text": [
      "countermeasure systems 503\n"
     ]
    },
    {
     "name": "stderr",
     "output_type": "stream",
     "text": [
      "\r",
      " 22%|██▏       | 224/1040 [15:44<48:24,  3.56s/it]"
     ]
    },
    {
     "name": "stdout",
     "output_type": "stream",
     "text": [
      "miniature sensors 503\n"
     ]
    },
    {
     "name": "stderr",
     "output_type": "stream",
     "text": [
      "\r",
      " 22%|██▏       | 225/1040 [15:48<50:55,  3.75s/it]"
     ]
    },
    {
     "name": "stdout",
     "output_type": "stream",
     "text": [
      "liaison devices 503\n"
     ]
    },
    {
     "name": "stderr",
     "output_type": "stream",
     "text": [
      "\r",
      " 22%|██▏       | 226/1040 [15:52<53:02,  3.91s/it]"
     ]
    },
    {
     "name": "stdout",
     "output_type": "stream",
     "text": [
      "satellite communication system 503\n"
     ]
    },
    {
     "name": "stderr",
     "output_type": "stream",
     "text": [
      "\r",
      " 22%|██▏       | 227/1040 [15:57<53:48,  3.97s/it]"
     ]
    },
    {
     "name": "stdout",
     "output_type": "stream",
     "text": [
      "routing protocols 503\n"
     ]
    },
    {
     "name": "stderr",
     "output_type": "stream",
     "text": [
      "\r",
      " 22%|██▏       | 228/1040 [16:01<54:40,  4.04s/it]"
     ]
    },
    {
     "name": "stdout",
     "output_type": "stream",
     "text": [
      "military communication system 503\n"
     ]
    },
    {
     "name": "stderr",
     "output_type": "stream",
     "text": [
      "\r",
      " 22%|██▏       | 229/1040 [16:05<54:49,  4.06s/it]"
     ]
    },
    {
     "name": "stdout",
     "output_type": "stream",
     "text": [
      "physical network 503\n"
     ]
    },
    {
     "name": "stderr",
     "output_type": "stream",
     "text": [
      "\r",
      " 22%|██▏       | 230/1040 [16:09<55:59,  4.15s/it]"
     ]
    },
    {
     "name": "stdout",
     "output_type": "stream",
     "text": [
      "gps navigation system 503\n"
     ]
    },
    {
     "name": "stderr",
     "output_type": "stream",
     "text": [
      "\r",
      " 22%|██▏       | 231/1040 [16:14<56:46,  4.21s/it]"
     ]
    },
    {
     "name": "stdout",
     "output_type": "stream",
     "text": [
      "defense information network 503\n"
     ]
    },
    {
     "name": "stderr",
     "output_type": "stream",
     "text": [
      "\r",
      " 22%|██▏       | 232/1040 [16:18<56:10,  4.17s/it]"
     ]
    },
    {
     "name": "stdout",
     "output_type": "stream",
     "text": [
      "military digital information network 503\n"
     ]
    },
    {
     "name": "stderr",
     "output_type": "stream",
     "text": [
      "\r",
      " 22%|██▏       | 233/1040 [16:22<56:38,  4.21s/it]"
     ]
    },
    {
     "name": "stdout",
     "output_type": "stream",
     "text": [
      "computer simulation systems 503\n"
     ]
    },
    {
     "name": "stderr",
     "output_type": "stream",
     "text": [
      "\r",
      " 22%|██▎       | 234/1040 [16:26<55:51,  4.16s/it]"
     ]
    },
    {
     "name": "stdout",
     "output_type": "stream",
     "text": [
      "auxylium communication system 503\n"
     ]
    },
    {
     "name": "stderr",
     "output_type": "stream",
     "text": [
      "\r",
      " 23%|██▎       | 235/1040 [16:30<56:11,  4.19s/it]"
     ]
    },
    {
     "name": "stdout",
     "output_type": "stream",
     "text": [
      "common hardware systems 503\n"
     ]
    },
    {
     "name": "stderr",
     "output_type": "stream",
     "text": [
      "\r",
      " 23%|██▎       | 236/1040 [16:35<57:02,  4.26s/it]"
     ]
    },
    {
     "name": "stdout",
     "output_type": "stream",
     "text": [
      "electro-explosive devices 503\n"
     ]
    },
    {
     "name": "stderr",
     "output_type": "stream",
     "text": [
      "\r",
      " 23%|██▎       | 237/1040 [16:39<56:45,  4.24s/it]"
     ]
    },
    {
     "name": "stdout",
     "output_type": "stream",
     "text": [
      "collaborative information technology 503\n"
     ]
    },
    {
     "name": "stderr",
     "output_type": "stream",
     "text": [
      "\r",
      " 23%|██▎       | 240/1040 [16:43<45:09,  3.39s/it]"
     ]
    },
    {
     "name": "stdout",
     "output_type": "stream",
     "text": [
      "information battle system 503\n"
     ]
    },
    {
     "name": "stderr",
     "output_type": "stream",
     "text": [
      "\r",
      " 23%|██▎       | 241/1040 [16:47<47:13,  3.55s/it]"
     ]
    },
    {
     "name": "stdout",
     "output_type": "stream",
     "text": [
      "ground ubiquitous surveillance system 503\n"
     ]
    },
    {
     "name": "stderr",
     "output_type": "stream",
     "text": [
      "\r",
      " 23%|██▎       | 243/1040 [16:51<41:00,  3.09s/it]"
     ]
    },
    {
     "name": "stdout",
     "output_type": "stream",
     "text": [
      "antennae technology 503\n"
     ]
    },
    {
     "name": "stderr",
     "output_type": "stream",
     "text": [
      "\r",
      " 24%|██▎       | 245/1040 [16:55<36:54,  2.79s/it]"
     ]
    },
    {
     "name": "stdout",
     "output_type": "stream",
     "text": [
      "network data systems 503\n"
     ]
    },
    {
     "name": "stderr",
     "output_type": "stream",
     "text": [
      "\r",
      " 24%|██▍       | 247/1040 [16:59<34:14,  2.59s/it]"
     ]
    },
    {
     "name": "stdout",
     "output_type": "stream",
     "text": [
      "unmanned aerial reconnaissance systems 503\n"
     ]
    },
    {
     "name": "stderr",
     "output_type": "stream",
     "text": [
      "\r",
      " 24%|██▍       | 248/1040 [17:04<40:32,  3.07s/it]"
     ]
    },
    {
     "name": "stdout",
     "output_type": "stream",
     "text": [
      "computer machine 503\n"
     ]
    },
    {
     "name": "stderr",
     "output_type": "stream",
     "text": [
      "\r",
      " 24%|██▍       | 252/1040 [17:08<32:12,  2.45s/it]"
     ]
    },
    {
     "name": "stdout",
     "output_type": "stream",
     "text": [
      "target location system 503\n"
     ]
    },
    {
     "name": "stderr",
     "output_type": "stream",
     "text": [
      "\r",
      " 24%|██▍       | 253/1040 [17:12<38:45,  2.95s/it]"
     ]
    },
    {
     "name": "stdout",
     "output_type": "stream",
     "text": [
      "filter systems 503\n"
     ]
    },
    {
     "name": "stderr",
     "output_type": "stream",
     "text": [
      "\r",
      " 24%|██▍       | 254/1040 [17:16<43:20,  3.31s/it]"
     ]
    },
    {
     "name": "stdout",
     "output_type": "stream",
     "text": [
      "mobile airspace management system 503\n"
     ]
    },
    {
     "name": "stderr",
     "output_type": "stream",
     "text": [
      "\r",
      " 25%|██▍       | 256/1040 [17:20<38:05,  2.92s/it]"
     ]
    },
    {
     "name": "stdout",
     "output_type": "stream",
     "text": [
      "military space systems 503\n"
     ]
    },
    {
     "name": "stderr",
     "output_type": "stream",
     "text": [
      "\r",
      " 25%|██▍       | 257/1040 [17:24<43:13,  3.31s/it]"
     ]
    },
    {
     "name": "stdout",
     "output_type": "stream",
     "text": [
      "evaluation system 503\n"
     ]
    },
    {
     "name": "stderr",
     "output_type": "stream",
     "text": [
      "\r",
      " 25%|██▍       | 258/1040 [17:28<47:15,  3.63s/it]"
     ]
    },
    {
     "name": "stdout",
     "output_type": "stream",
     "text": [
      "global transportation network 503\n"
     ]
    },
    {
     "name": "stderr",
     "output_type": "stream",
     "text": [
      "\r",
      " 25%|██▍       | 259/1040 [17:32<48:45,  3.75s/it]"
     ]
    },
    {
     "name": "stdout",
     "output_type": "stream",
     "text": [
      "mobile networks 503\n"
     ]
    },
    {
     "name": "stderr",
     "output_type": "stream",
     "text": [
      "\r",
      " 25%|██▌       | 260/1040 [17:37<51:09,  3.94s/it]"
     ]
    },
    {
     "name": "stdout",
     "output_type": "stream",
     "text": [
      "critical information system 503\n"
     ]
    },
    {
     "name": "stderr",
     "output_type": "stream",
     "text": [
      "\r",
      " 25%|██▌       | 261/1040 [17:41<52:07,  4.01s/it]"
     ]
    },
    {
     "name": "stdout",
     "output_type": "stream",
     "text": [
      "wireless devices 503\n"
     ]
    },
    {
     "name": "stderr",
     "output_type": "stream",
     "text": [
      "\r",
      " 25%|██▌       | 262/1040 [17:45<52:47,  4.07s/it]"
     ]
    },
    {
     "name": "stdout",
     "output_type": "stream",
     "text": [
      "recognition systems 503\n"
     ]
    },
    {
     "name": "stderr",
     "output_type": "stream",
     "text": [
      "\r",
      " 25%|██▌       | 263/1040 [17:49<53:17,  4.11s/it]"
     ]
    },
    {
     "name": "stdout",
     "output_type": "stream",
     "text": [
      "ground sensor 503\n"
     ]
    },
    {
     "name": "stderr",
     "output_type": "stream",
     "text": [
      "\r",
      " 25%|██▌       | 264/1040 [17:54<53:02,  4.10s/it]"
     ]
    },
    {
     "name": "stdout",
     "output_type": "stream",
     "text": [
      "storage server 503\n"
     ]
    },
    {
     "name": "stderr",
     "output_type": "stream",
     "text": [
      "\r",
      " 26%|██▌       | 266/1040 [17:58<44:58,  3.49s/it]"
     ]
    },
    {
     "name": "stdout",
     "output_type": "stream",
     "text": [
      "intelligent agents computer 503\n"
     ]
    },
    {
     "name": "stderr",
     "output_type": "stream",
     "text": [
      "\r",
      " 26%|██▌       | 267/1040 [18:02<47:14,  3.67s/it]"
     ]
    },
    {
     "name": "stdout",
     "output_type": "stream",
     "text": [
      "autonomous lethal weapon system 503\n"
     ]
    },
    {
     "name": "stderr",
     "output_type": "stream",
     "text": [
      "\r",
      " 26%|██▌       | 268/1040 [18:06<49:13,  3.83s/it]"
     ]
    },
    {
     "name": "stdout",
     "output_type": "stream",
     "text": [
      "airspace control system 503\n"
     ]
    },
    {
     "name": "stderr",
     "output_type": "stream",
     "text": [
      "\r",
      " 26%|██▌       | 269/1040 [18:10<51:44,  4.03s/it]"
     ]
    },
    {
     "name": "stdout",
     "output_type": "stream",
     "text": [
      "satellite telephone 503\n"
     ]
    },
    {
     "name": "stderr",
     "output_type": "stream",
     "text": [
      "\r",
      " 26%|██▌       | 270/1040 [18:15<52:02,  4.05s/it]"
     ]
    },
    {
     "name": "stdout",
     "output_type": "stream",
     "text": [
      "protective clothing 503\n"
     ]
    },
    {
     "name": "stderr",
     "output_type": "stream",
     "text": [
      "\r",
      " 26%|██▌       | 271/1040 [18:19<52:53,  4.13s/it]"
     ]
    },
    {
     "name": "stdout",
     "output_type": "stream",
     "text": [
      "zigbee network 503\n"
     ]
    },
    {
     "name": "stderr",
     "output_type": "stream",
     "text": [
      "\r",
      " 26%|██▌       | 272/1040 [18:23<53:52,  4.21s/it]"
     ]
    },
    {
     "name": "stdout",
     "output_type": "stream",
     "text": [
      "universal mobile telecommunications system 503\n"
     ]
    },
    {
     "name": "stderr",
     "output_type": "stream",
     "text": [
      "\r",
      " 26%|██▋       | 274/1040 [18:27<45:32,  3.57s/it]"
     ]
    },
    {
     "name": "stdout",
     "output_type": "stream",
     "text": [
      "advanced battle management systems 503\n"
     ]
    },
    {
     "name": "stderr",
     "output_type": "stream",
     "text": [
      "\r",
      " 26%|██▋       | 275/1040 [18:32<48:30,  3.81s/it]"
     ]
    },
    {
     "name": "stdout",
     "output_type": "stream",
     "text": [
      "military decision support systems 503\n"
     ]
    },
    {
     "name": "stderr",
     "output_type": "stream",
     "text": [
      "\r",
      " 27%|██▋       | 276/1040 [18:36<49:59,  3.93s/it]"
     ]
    },
    {
     "name": "stdout",
     "output_type": "stream",
     "text": [
      "layered system 503\n"
     ]
    },
    {
     "name": "stderr",
     "output_type": "stream",
     "text": [
      "\r",
      " 27%|██▋       | 277/1040 [18:41<52:20,  4.12s/it]"
     ]
    },
    {
     "name": "stdout",
     "output_type": "stream",
     "text": [
      "measurement system 503\n"
     ]
    },
    {
     "name": "stderr",
     "output_type": "stream",
     "text": [
      "\r",
      " 27%|██▋       | 278/1040 [18:45<52:19,  4.12s/it]"
     ]
    },
    {
     "name": "stdout",
     "output_type": "stream",
     "text": [
      "remote control 503\n"
     ]
    },
    {
     "name": "stderr",
     "output_type": "stream",
     "text": [
      "\r",
      " 27%|██▋       | 280/1040 [18:49<45:14,  3.57s/it]"
     ]
    },
    {
     "name": "stdout",
     "output_type": "stream",
     "text": [
      "cognitive radio network 503\n"
     ]
    },
    {
     "name": "stderr",
     "output_type": "stream",
     "text": [
      "\r",
      " 27%|██▋       | 281/1040 [18:53<47:38,  3.77s/it]"
     ]
    },
    {
     "name": "stdout",
     "output_type": "stream",
     "text": [
      "thermal cameras 503\n"
     ]
    },
    {
     "name": "stderr",
     "output_type": "stream",
     "text": [
      "\r",
      " 27%|██▋       | 283/1040 [18:58<41:02,  3.25s/it]"
     ]
    },
    {
     "name": "stdout",
     "output_type": "stream",
     "text": [
      "combat collaborative systems 503\n"
     ]
    },
    {
     "name": "stderr",
     "output_type": "stream",
     "text": [
      "\r",
      " 27%|██▋       | 285/1040 [19:02<36:13,  2.88s/it]"
     ]
    },
    {
     "name": "stdout",
     "output_type": "stream",
     "text": [
      "internet technologies 503\n"
     ]
    },
    {
     "name": "stderr",
     "output_type": "stream",
     "text": [
      "\r",
      " 28%|██▊       | 288/1040 [19:06<30:23,  2.43s/it]"
     ]
    },
    {
     "name": "stdout",
     "output_type": "stream",
     "text": [
      "multi-tactical data link network 503\n"
     ]
    },
    {
     "name": "stderr",
     "output_type": "stream",
     "text": [
      "\r",
      " 28%|██▊       | 289/1040 [19:10<36:28,  2.91s/it]"
     ]
    },
    {
     "name": "stdout",
     "output_type": "stream",
     "text": [
      "cargo movement operations system 503\n"
     ]
    },
    {
     "name": "stderr",
     "output_type": "stream",
     "text": [
      "\r",
      " 28%|██▊       | 290/1040 [19:14<41:16,  3.30s/it]"
     ]
    },
    {
     "name": "stdout",
     "output_type": "stream",
     "text": [
      "electronic sensors 503\n"
     ]
    },
    {
     "name": "stderr",
     "output_type": "stream",
     "text": [
      "\r",
      " 28%|██▊       | 292/1040 [19:18<36:30,  2.93s/it]"
     ]
    },
    {
     "name": "stdout",
     "output_type": "stream",
     "text": [
      "autonomous biometric systems 503\n"
     ]
    },
    {
     "name": "stderr",
     "output_type": "stream",
     "text": [
      "\r",
      " 28%|██▊       | 293/1040 [19:22<41:55,  3.37s/it]"
     ]
    },
    {
     "name": "stdout",
     "output_type": "stream",
     "text": [
      "personal value systems 503\n"
     ]
    },
    {
     "name": "stderr",
     "output_type": "stream",
     "text": [
      "\r",
      " 28%|██▊       | 294/1040 [19:27<44:36,  3.59s/it]"
     ]
    },
    {
     "name": "stdout",
     "output_type": "stream",
     "text": [
      "global area reference system 503\n"
     ]
    },
    {
     "name": "stderr",
     "output_type": "stream",
     "text": [
      "\r",
      " 28%|██▊       | 295/1040 [19:31<46:47,  3.77s/it]"
     ]
    },
    {
     "name": "stdout",
     "output_type": "stream",
     "text": [
      "connectivity technologies 503\n"
     ]
    },
    {
     "name": "stderr",
     "output_type": "stream",
     "text": [
      "\r",
      " 29%|██▊       | 297/1040 [19:35<40:28,  3.27s/it]"
     ]
    },
    {
     "name": "stdout",
     "output_type": "stream",
     "text": [
      "original quantitative analysis mechanisms 503\n"
     ]
    },
    {
     "name": "stderr",
     "output_type": "stream",
     "text": [
      "\r",
      " 29%|██▉       | 299/1040 [19:39<35:52,  2.90s/it]"
     ]
    },
    {
     "name": "stdout",
     "output_type": "stream",
     "text": [
      "multimedia system 503\n"
     ]
    },
    {
     "name": "stderr",
     "output_type": "stream",
     "text": [
      "\r",
      " 29%|██▉       | 300/1040 [19:43<40:32,  3.29s/it]"
     ]
    },
    {
     "name": "stdout",
     "output_type": "stream",
     "text": [
      "anti-spoofing technologies 503\n"
     ]
    },
    {
     "name": "stderr",
     "output_type": "stream",
     "text": [
      "\r",
      " 29%|██▉       | 301/1040 [19:47<43:51,  3.56s/it]"
     ]
    },
    {
     "name": "stdout",
     "output_type": "stream",
     "text": [
      "monitoring system 503\n"
     ]
    },
    {
     "name": "stderr",
     "output_type": "stream",
     "text": [
      "\r",
      " 29%|██▉       | 302/1040 [19:52<47:15,  3.84s/it]"
     ]
    },
    {
     "name": "stdout",
     "output_type": "stream",
     "text": [
      "avant system 503\n"
     ]
    },
    {
     "name": "stderr",
     "output_type": "stream",
     "text": [
      "\r",
      " 29%|██▉       | 303/1040 [19:56<48:08,  3.92s/it]"
     ]
    },
    {
     "name": "stdout",
     "output_type": "stream",
     "text": [
      "naval communications networks 503\n"
     ]
    },
    {
     "name": "stderr",
     "output_type": "stream",
     "text": [
      "\r",
      " 29%|██▉       | 304/1040 [20:00<49:52,  4.07s/it]"
     ]
    },
    {
     "name": "stdout",
     "output_type": "stream",
     "text": [
      "tactical communication system 503\n"
     ]
    },
    {
     "name": "stderr",
     "output_type": "stream",
     "text": [
      "\r",
      " 29%|██▉       | 306/1040 [20:05<42:22,  3.46s/it]"
     ]
    },
    {
     "name": "stdout",
     "output_type": "stream",
     "text": [
      "surface sensor 503\n"
     ]
    },
    {
     "name": "stderr",
     "output_type": "stream",
     "text": [
      "\r",
      " 30%|██▉       | 307/1040 [20:09<45:22,  3.71s/it]"
     ]
    },
    {
     "name": "stdout",
     "output_type": "stream",
     "text": [
      "information network 503\n"
     ]
    },
    {
     "name": "stderr",
     "output_type": "stream",
     "text": [
      "\r",
      " 30%|██▉       | 308/1040 [20:13<47:45,  3.92s/it]"
     ]
    },
    {
     "name": "stdout",
     "output_type": "stream",
     "text": [
      "personal computers 503\n"
     ]
    },
    {
     "name": "stderr",
     "output_type": "stream",
     "text": [
      "\r",
      " 30%|██▉       | 309/1040 [20:18<50:12,  4.12s/it]"
     ]
    },
    {
     "name": "stdout",
     "output_type": "stream",
     "text": [
      "defense logistics management system 503\n"
     ]
    },
    {
     "name": "stderr",
     "output_type": "stream",
     "text": [
      "\r",
      " 30%|███       | 312/1040 [20:22<39:58,  3.29s/it]"
     ]
    },
    {
     "name": "stdout",
     "output_type": "stream",
     "text": [
      "tactical data link network 503\n"
     ]
    },
    {
     "name": "stderr",
     "output_type": "stream",
     "text": [
      "\r",
      " 30%|███       | 315/1040 [20:26<32:49,  2.72s/it]"
     ]
    },
    {
     "name": "stdout",
     "output_type": "stream",
     "text": [
      "engineering systems 503\n"
     ]
    },
    {
     "name": "stderr",
     "output_type": "stream",
     "text": [
      "\r",
      " 30%|███       | 316/1040 [20:30<37:00,  3.07s/it]"
     ]
    },
    {
     "name": "stdout",
     "output_type": "stream",
     "text": [
      "detonation mechanisms 503\n"
     ]
    },
    {
     "name": "stderr",
     "output_type": "stream",
     "text": [
      "\r",
      " 30%|███       | 317/1040 [20:34<40:16,  3.34s/it]"
     ]
    },
    {
     "name": "stdout",
     "output_type": "stream",
     "text": [
      "inland petroleum distribution system 503\n"
     ]
    },
    {
     "name": "stderr",
     "output_type": "stream",
     "text": [
      "\r",
      " 31%|███       | 318/1040 [20:38<43:42,  3.63s/it]"
     ]
    },
    {
     "name": "stdout",
     "output_type": "stream",
     "text": [
      "subsurface sensor 503\n"
     ]
    },
    {
     "name": "stderr",
     "output_type": "stream",
     "text": [
      "\r",
      " 31%|███       | 319/1040 [20:42<45:28,  3.78s/it]"
     ]
    },
    {
     "name": "stdout",
     "output_type": "stream",
     "text": [
      "disposal information management system 503\n"
     ]
    },
    {
     "name": "stderr",
     "output_type": "stream",
     "text": [
      "\r",
      " 31%|███       | 320/1040 [20:46<46:29,  3.87s/it]"
     ]
    },
    {
     "name": "stdout",
     "output_type": "stream",
     "text": [
      "radar sensor 503\n"
     ]
    },
    {
     "name": "stderr",
     "output_type": "stream",
     "text": [
      "\r",
      " 31%|███       | 321/1040 [20:51<48:36,  4.06s/it]"
     ]
    },
    {
     "name": "stdout",
     "output_type": "stream",
     "text": [
      "electronic information system 503\n"
     ]
    },
    {
     "name": "stderr",
     "output_type": "stream",
     "text": [
      "\r",
      " 31%|███       | 323/1040 [20:55<41:19,  3.46s/it]"
     ]
    },
    {
     "name": "stdout",
     "output_type": "stream",
     "text": [
      "argus airborne radar system 503\n"
     ]
    },
    {
     "name": "stderr",
     "output_type": "stream",
     "text": [
      "\r",
      " 31%|███       | 324/1040 [20:59<44:22,  3.72s/it]"
     ]
    },
    {
     "name": "stdout",
     "output_type": "stream",
     "text": [
      "mixed reality systems 503\n"
     ]
    },
    {
     "name": "stderr",
     "output_type": "stream",
     "text": [
      "\r",
      " 31%|███▏      | 325/1040 [21:04<45:50,  3.85s/it]"
     ]
    },
    {
     "name": "stdout",
     "output_type": "stream",
     "text": [
      "planning system 503\n"
     ]
    },
    {
     "name": "stderr",
     "output_type": "stream",
     "text": [
      "\r",
      " 31%|███▏      | 326/1040 [21:08<46:20,  3.89s/it]"
     ]
    },
    {
     "name": "stdout",
     "output_type": "stream",
     "text": [
      "multihop networks 503\n"
     ]
    },
    {
     "name": "stderr",
     "output_type": "stream",
     "text": [
      "\r",
      " 31%|███▏      | 327/1040 [21:15<58:12,  4.90s/it]"
     ]
    },
    {
     "name": "stdout",
     "output_type": "stream",
     "text": [
      "voip technology 503\n"
     ]
    },
    {
     "name": "stderr",
     "output_type": "stream",
     "text": [
      "\r",
      " 32%|███▏      | 329/1040 [21:19<47:55,  4.04s/it]"
     ]
    },
    {
     "name": "stdout",
     "output_type": "stream",
     "text": [
      "mainframe computer 503\n"
     ]
    },
    {
     "name": "stderr",
     "output_type": "stream",
     "text": [
      "\r",
      " 32%|███▏      | 330/1040 [21:23<48:02,  4.06s/it]"
     ]
    },
    {
     "name": "stdout",
     "output_type": "stream",
     "text": [
      "assault bulk fuel systems 503\n"
     ]
    },
    {
     "name": "stderr",
     "output_type": "stream",
     "text": [
      "\r",
      " 32%|███▏      | 331/1040 [21:27<48:36,  4.11s/it]"
     ]
    },
    {
     "name": "stdout",
     "output_type": "stream",
     "text": [
      "mapreduce 503\n"
     ]
    },
    {
     "name": "stderr",
     "output_type": "stream",
     "text": [
      "\r",
      " 32%|███▏      | 332/1040 [21:31<49:09,  4.17s/it]"
     ]
    },
    {
     "name": "stdout",
     "output_type": "stream",
     "text": [
      "pointing device 503\n"
     ]
    },
    {
     "name": "stderr",
     "output_type": "stream",
     "text": [
      "\r",
      " 32%|███▏      | 333/1040 [21:36<49:27,  4.20s/it]"
     ]
    },
    {
     "name": "stdout",
     "output_type": "stream",
     "text": [
      "military unmanned systems 503\n"
     ]
    },
    {
     "name": "stderr",
     "output_type": "stream",
     "text": [
      "\r",
      " 32%|███▏      | 334/1040 [21:40<49:22,  4.20s/it]"
     ]
    },
    {
     "name": "stdout",
     "output_type": "stream",
     "text": [
      "pixel video sensors 503\n"
     ]
    },
    {
     "name": "stderr",
     "output_type": "stream",
     "text": [
      "\r",
      " 32%|███▏      | 335/1040 [21:44<49:19,  4.20s/it]"
     ]
    },
    {
     "name": "stdout",
     "output_type": "stream",
     "text": [
      "icts 503\n"
     ]
    },
    {
     "name": "stderr",
     "output_type": "stream",
     "text": [
      "\r",
      " 32%|███▏      | 337/1040 [21:48<41:48,  3.57s/it]"
     ]
    },
    {
     "name": "stdout",
     "output_type": "stream",
     "text": [
      "communication network technology 503\n"
     ]
    },
    {
     "name": "stderr",
     "output_type": "stream",
     "text": [
      "\r",
      " 33%|███▎      | 339/1040 [21:53<36:32,  3.13s/it]"
     ]
    },
    {
     "name": "stdout",
     "output_type": "stream",
     "text": [
      "management information technology 503\n"
     ]
    },
    {
     "name": "stderr",
     "output_type": "stream",
     "text": [
      "\r",
      " 33%|███▎      | 340/1040 [21:57<40:00,  3.43s/it]"
     ]
    },
    {
     "name": "stdout",
     "output_type": "stream",
     "text": [
      "total exposure health sensor 503\n"
     ]
    },
    {
     "name": "stderr",
     "output_type": "stream",
     "text": [
      "\r",
      " 33%|███▎      | 341/1040 [22:01<43:12,  3.71s/it]"
     ]
    },
    {
     "name": "stdout",
     "output_type": "stream",
     "text": [
      "cots technologies 503\n"
     ]
    },
    {
     "name": "stderr",
     "output_type": "stream",
     "text": [
      "\r",
      " 33%|███▎      | 342/1040 [22:05<44:52,  3.86s/it]"
     ]
    },
    {
     "name": "stdout",
     "output_type": "stream",
     "text": [
      "nuclear device 503\n"
     ]
    },
    {
     "name": "stderr",
     "output_type": "stream",
     "text": [
      "\r",
      " 33%|███▎      | 343/1040 [22:09<45:02,  3.88s/it]"
     ]
    },
    {
     "name": "stdout",
     "output_type": "stream",
     "text": [
      "ew systems 503\n"
     ]
    },
    {
     "name": "stderr",
     "output_type": "stream",
     "text": [
      "\r",
      " 33%|███▎      | 344/1040 [22:14<46:31,  4.01s/it]"
     ]
    },
    {
     "name": "stdout",
     "output_type": "stream",
     "text": [
      "military tactical networks 503\n"
     ]
    },
    {
     "name": "stderr",
     "output_type": "stream",
     "text": [
      "\r",
      " 33%|███▎      | 345/1040 [22:18<46:38,  4.03s/it]"
     ]
    },
    {
     "name": "stdout",
     "output_type": "stream",
     "text": [
      "sincgars system 503\n"
     ]
    },
    {
     "name": "stderr",
     "output_type": "stream",
     "text": [
      " 33%|███▎      | 345/1040 [22:20<45:01,  3.89s/it]\n"
     ]
    },
    {
     "ename": "KeyboardInterrupt",
     "evalue": "",
     "output_type": "error",
     "traceback": [
      "\u001b[0;31m---------------------------------------------------------------------------\u001b[0m",
      "\u001b[0;31mKeyboardInterrupt\u001b[0m                         Traceback (most recent call last)",
      "\u001b[0;32m<ipython-input-57-377570207c35>\u001b[0m in \u001b[0;36m<module>\u001b[0;34m\u001b[0m\n\u001b[1;32m     24\u001b[0m     \u001b[0;32melse\u001b[0m\u001b[0;34m:\u001b[0m\u001b[0;34m\u001b[0m\u001b[0;34m\u001b[0m\u001b[0m\n\u001b[1;32m     25\u001b[0m         \u001b[0mprint\u001b[0m\u001b[0;34m(\u001b[0m\u001b[0mterm\u001b[0m\u001b[0;34m,\u001b[0m \u001b[0mpage\u001b[0m\u001b[0;34m.\u001b[0m\u001b[0mstatus_code\u001b[0m\u001b[0;34m)\u001b[0m\u001b[0;34m\u001b[0m\u001b[0;34m\u001b[0m\u001b[0m\n\u001b[0;32m---> 26\u001b[0;31m     \u001b[0mtime\u001b[0m\u001b[0;34m.\u001b[0m\u001b[0msleep\u001b[0m\u001b[0;34m(\u001b[0m\u001b[0;36m3\u001b[0m\u001b[0;34m)\u001b[0m\u001b[0;34m\u001b[0m\u001b[0;34m\u001b[0m\u001b[0m\n\u001b[0m",
      "\u001b[0;31mKeyboardInterrupt\u001b[0m: "
     ]
    }
   ],
   "source": [
    "skip=True\n",
    "import time\n",
    "import random\n",
    "terms = list(data)\n",
    "random.shuffle(terms)\n",
    "for term in tqdm(terms):\n",
    "#     if skip and term!= miss_terms[-1]:\n",
    "#         continue\n",
    "#     elif skip and term==miss_terms[-1]:\n",
    "#         skip=False\n",
    "    if len(data[term]) >0:\n",
    "        continue\n",
    "    sentences = []\n",
    "    page = requests.get(\"https://www.wordhippo.com/what-is/sentences-with-the-word/{}.html\".format(term.replace(\" \",\"+\")))\n",
    "\n",
    "    soup = BeautifulSoup(page.content, 'html.parser')\n",
    "\n",
    "    for row in soup.find_all('tr',class_='exv2row1')+soup.find_all('tr',class_='exv2row2'):\n",
    "        sentence = row.text.strip()\n",
    "        sentences.append(sentence)\n",
    "    if len(sentences) >0:\n",
    "        print(term ,sentences[0])\n",
    "        data[term]=sentences\n",
    "    else:\n",
    "        print(term, page.status_code)\n",
    "    time.sleep(3)"
   ]
  },
  {
   "cell_type": "code",
   "execution_count": null,
   "metadata": {},
   "outputs": [],
   "source": [
    "grippers,drone,dust masks,facebook, falcon,fifth generation,firefighting,first generation, \n",
    "fishing boats,form factor, fourth generation,"
   ]
  },
  {
   "cell_type": "code",
   "execution_count": 54,
   "metadata": {},
   "outputs": [],
   "source": [
    "with open('c4istar_technologies_sentences.txt','w') as f:\n",
    "    json.dump(data, f)"
   ]
  },
  {
   "cell_type": "code",
   "execution_count": null,
   "metadata": {},
   "outputs": [],
   "source": []
  }
 ],
 "metadata": {
  "kernelspec": {
   "display_name": "Python 3",
   "language": "python",
   "name": "python3"
  },
  "language_info": {
   "codemirror_mode": {
    "name": "ipython",
    "version": 3
   },
   "file_extension": ".py",
   "mimetype": "text/x-python",
   "name": "python",
   "nbconvert_exporter": "python",
   "pygments_lexer": "ipython3",
   "version": "3.6.9"
  }
 },
 "nbformat": 4,
 "nbformat_minor": 2
}
